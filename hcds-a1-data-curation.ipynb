{
 "cells": [
  {
   "cell_type": "markdown",
   "metadata": {},
   "source": [
    "# Goal: \n",
    "Construct, analyze, and publish a dataset of monthly traffic on English Wikipedia from January 1, 2008 through August 30, 2021"
   ]
  },
  {
   "cell_type": "markdown",
   "metadata": {},
   "source": [
    "# Data Acquisition\n",
    "\n",
    "There are 2 sources of Wikipedia Traffic data\n",
    "    - Pagecounts\n",
    "    - Pageviews\n",
    "The main difference between pagecounts and the pageview data is that pageview allows us to filter out automated (bot) traffic whereas pagecounts does not.\n",
    "\n",
    "We will be collecting traffic data from 2008 - 2021 & outputting to 5 different files\n",
    "- pagecounts_desktop-site_200801-201607.json\n",
    "- pagecounts_mobile-site_200801-201607.json\n",
    "- pageviews_desktop_201507-202108.json\n",
    "- pageviews_mobile-app_201507-202108.json\n",
    "- pageviews_mobile-web_201507-202108.json"
   ]
  },
  {
   "cell_type": "code",
   "execution_count": 1,
   "metadata": {},
   "outputs": [],
   "source": [
    "import json\n",
    "import requests\n",
    "import pandas as pd\n",
    "import altair as alt\n",
    "from altair_saver import save\n",
    "from selenium import webdriver"
   ]
  },
  {
   "cell_type": "code",
   "execution_count": 2,
   "metadata": {},
   "outputs": [],
   "source": [
    "endpoint_legacy = 'https://wikimedia.org/api/rest_v1/metrics/legacy/pagecounts/aggregate/{project}/{access-site}/{granularity}/{start}/{end}'\n",
    "endpoint_pageviews = 'https://wikimedia.org/api/rest_v1/metrics/pageviews/aggregate/{project}/{access}/{agent}/{granularity}/{start}/{end}'"
   ]
  },
  {
   "cell_type": "code",
   "execution_count": 3,
   "metadata": {},
   "outputs": [],
   "source": [
    "\n",
    "#API call params\n",
    "\n",
    "# see: https://wikimedia.org/api/rest_v1/#!/Legacy_data/get_metrics_legacy_pagecounts_aggregate_project_access_site_granularity_start_end\n",
    "pagecounts_desktop_site = {\"project\" : \"en.wikipedia.org\",\n",
    "                 \"access-site\" : \"desktop-site\",\n",
    "                 \"granularity\" : \"monthly\",\n",
    "                 \"start\" : \"2008010100\",\n",
    "                # for end use 1st day of month following final month of data\n",
    "                 \"end\" : \"2016080100\"\n",
    "                    }\n",
    "\n",
    "pagecounts_mobile_site = {\"project\" : \"en.wikipedia.org\",\n",
    "                 \"access-site\" : \"mobile-site\",\n",
    "                 \"granularity\" : \"monthly\",\n",
    "                 \"start\" : \"2008010100\",\n",
    "                # for end use 1st day of month following final month of data\n",
    "                 \"end\" : \"2016080100\"\n",
    "                    }\n",
    "\n",
    "# parameters for getting aggregated current standard pageview data\n",
    "# see: https://wikimedia.org/api/rest_v1/#!/Pageviews_data/get_metrics_pageviews_aggregate_project_access_agent_granularity_start_end\n",
    "pageviews_desktop = {\"project\" : \"en.wikipedia.org\",\n",
    "                    \"access\" : \"desktop\",\n",
    "                    \"agent\" : \"user\",\n",
    "                    \"granularity\" : \"monthly\",\n",
    "                    \"start\" : \"2015070100\",\n",
    "                    # for end use 1st day of month following final month of data\n",
    "                     \"end\" : \"2021090100\"\n",
    "                        }\n",
    "pageviews_mobile_app = {\"project\" : \"en.wikipedia.org\",\n",
    "                    \"access\" : \"mobile-app\",\n",
    "                    \"agent\" : \"user\",\n",
    "                    \"granularity\" : \"monthly\",\n",
    "                    \"start\" : \"2015070100\",\n",
    "                    # for end use 1st day of month following final month of data\n",
    "                     \"end\" : \"2021090100\"\n",
    "                        }\n",
    "\n",
    "pageviews_mobile_web = {\"project\" : \"en.wikipedia.org\",\n",
    "                    \"access\" : \"mobile-web\",\n",
    "                    \"agent\" : \"user\",\n",
    "                    \"granularity\" : \"monthly\",\n",
    "                    \"start\" : \"2015070100\",\n",
    "                    # for end use 1st day of month following final month of data\n",
    "                     \"end\" : \"2021090100\"\n",
    "                        }\n",
    "# Customize these with your own information\n",
    "headers = {\n",
    "    'User-Agent': 'https://github.com/marcm97',\n",
    "    'From': 'marcm5@uw.edu'\n",
    "}"
   ]
  },
  {
   "cell_type": "code",
   "execution_count": 4,
   "metadata": {},
   "outputs": [],
   "source": [
    "def api_call(endpoint,parameters):\n",
    "    call = requests.get(endpoint.format(**parameters), headers=headers)\n",
    "    response = call.json()\n",
    "    \n",
    "    return response"
   ]
  },
  {
   "cell_type": "code",
   "execution_count": 5,
   "metadata": {},
   "outputs": [],
   "source": [
    "#pagecounts API calls\n",
    "pagecounts_desktop_site_json = api_call(endpoint_legacy, pagecounts_desktop_site)\n",
    "pagecounts_mobile_site_json = api_call(endpoint_legacy, pagecounts_mobile_site)\n",
    "\n",
    "#pageview API calls\n",
    "pageviews_desktop_json = api_call(endpoint_pageviews, pageviews_desktop)\n",
    "pageviews_mobile_app_json = api_call(endpoint_pageviews, pageviews_mobile_app)\n",
    "pageviews_mobile_web_json = api_call(endpoint_pageviews, pageviews_mobile_web)"
   ]
  },
  {
   "cell_type": "code",
   "execution_count": 6,
   "metadata": {},
   "outputs": [],
   "source": [
    "# writing json data to data_raw/\n",
    "with open('data_raw/pagecounts_desktop-site_200801-201608.json', 'w', encoding='utf-8') as f:\n",
    "    json.dump(pagecounts_desktop_site_json, f, ensure_ascii=False, indent=4)\n",
    "    \n",
    "with open('data_raw/pagecounts_mobile-site_200801-201608.json', 'w', encoding='utf-8') as f:\n",
    "    json.dump(pagecounts_mobile_site_json, f, ensure_ascii=False, indent=4)\n",
    "    \n",
    "with open('data_raw/pageviews_desktop_201507-202108.json', 'w', encoding='utf-8') as f:\n",
    "    json.dump(pageviews_desktop_json, f, ensure_ascii=False, indent=4)\n",
    "\n",
    "with open('data_raw/pageviews_mobile-app_201507-202108.json', 'w', encoding='utf-8') as f:\n",
    "    json.dump(pageviews_mobile_app_json, f, ensure_ascii=False, indent=4)\n",
    "    \n",
    "with open('data_raw/pageviews_mobile-web_201507-202108.json', 'w', encoding='utf-8') as f:\n",
    "    json.dump(pageviews_mobile_web_json, f, ensure_ascii=False, indent=4)"
   ]
  },
  {
   "cell_type": "markdown",
   "metadata": {},
   "source": [
    "# Data Processing"
   ]
  },
  {
   "cell_type": "code",
   "execution_count": 7,
   "metadata": {},
   "outputs": [],
   "source": [
    "def create_df(path):\n",
    "    with open(path) as f:\n",
    "        json_data = json.load(f)\n",
    "    data = pd.json_normalize(json_data[\"items\"])\n",
    "    data[\"Year\"] = data[\"timestamp\"].str[:4]#first 4 digits are the year\n",
    "    data[\"Month\"] = data[\"timestamp\"].str[4:6]#digits 5,6 are months\n",
    "    if \"views\" in data.columns:\n",
    "        data[\"count\"] = data[\"views\"]\n",
    "    data[\"count\"] = pd.to_numeric(data[\"count\"])\n",
    "    return data[[\"Year\",\"Month\",\"count\"]]\n",
    "    "
   ]
  },
  {
   "cell_type": "code",
   "execution_count": 8,
   "metadata": {},
   "outputs": [],
   "source": [
    "pagecounts_desktop = create_df(\"data_raw/pagecounts_desktop-site_200801-201608.json\")\n",
    "pagecounts_mobile = create_df(\"data_raw/pagecounts_mobile-site_200801-201608.json\")\n",
    "pageviews_desktop = create_df(\"data_raw/pageviews_desktop_201507-202108.json\")\n",
    "pageviews_mobile_app = create_df(\"data_raw/pageviews_mobile-app_201507-202108.json\")\n",
    "pageviews_mobile_web = create_df(\"data_raw/pageviews_mobile-web_201507-202108.json\")"
   ]
  },
  {
   "cell_type": "markdown",
   "metadata": {},
   "source": [
    "- For data collected from the Pageviews API, combine the monthly values for mobile-app and mobile-web to create a total mobile traffic count for each month.\n"
   ]
  },
  {
   "cell_type": "code",
   "execution_count": 9,
   "metadata": {},
   "outputs": [],
   "source": [
    "pageviews_mobile = pageviews_mobile_app.merge(pageviews_mobile_web,\n",
    "                          how = \"outer\",\n",
    "                           on =[\"Year\",\"Month\"],\n",
    "                           suffixes =[\"_mobile_app\",\"_mobile_web\"]\n",
    "                          )\n",
    "pageviews_mobile[\"count\"] = pageviews_mobile[\"count_mobile_app\"]+pageviews_mobile[\"count_mobile_web\"]\n",
    "pageviews_mobile = pageviews_mobile[[\"Year\",\"Month\",\"count\"]]"
   ]
  },
  {
   "cell_type": "code",
   "execution_count": 10,
   "metadata": {},
   "outputs": [],
   "source": [
    "#creating unified joined csv\n",
    "pagecounts = pd.merge(pagecounts_desktop,\n",
    "         pagecounts_mobile,\n",
    "         how = \"outer\",\n",
    "         on =[\"Year\",\"Month\"],\n",
    "         suffixes =[\"_pagecounts_desktop\",\"_pagecounts_mobile_web\"]\n",
    "        )\n",
    "\n",
    "pageviews = pd.merge(pageviews_desktop,\n",
    "         pageviews_mobile,\n",
    "         how = \"outer\",\n",
    "         on =[\"Year\",\"Month\"],\n",
    "         suffixes =[\"_pageview_desktop\",\"_pageview_mobile_web\"]\n",
    "        )\n",
    "\n",
    "data = pd.merge(pagecounts,\n",
    "                pageviews,\n",
    "                how = \"outer\",\n",
    "                on =[\"Year\",\"Month\"]\n",
    "               )"
   ]
  },
  {
   "cell_type": "code",
   "execution_count": 11,
   "metadata": {},
   "outputs": [],
   "source": [
    "#replacing NA with 0's\n",
    "data = data.fillna(0)"
   ]
  },
  {
   "cell_type": "code",
   "execution_count": 12,
   "metadata": {},
   "outputs": [],
   "source": [
    "data[\"pagecount_all_views\"] = data[\"count_pagecounts_desktop\"] + data[\"count_pagecounts_mobile_web\"]\n",
    "data[\"pageview_all_views\"] = data[\"count_pageview_desktop\"] + data[\"count_pageview_mobile_web\"]"
   ]
  },
  {
   "cell_type": "code",
   "execution_count": 13,
   "metadata": {},
   "outputs": [],
   "source": [
    "data = data.rename(columns = {\n",
    "    \"count_pagecounts_desktop\": \"pagecount_desktop_views\",\n",
    "    \"count_pagecounts_mobile_web\": \"pagecount_mobile_views\",\n",
    "    \"count_pageview_desktop\": \"pageview_desktop_views\",\n",
    "    \"count_pageview_mobile_web\":\"pageview_mobile_views\"\n",
    "})\n",
    "data = data[[\"Year\",\n",
    "      \"Month\",\n",
    "      \"pagecount_all_views\",\n",
    "      \"pagecount_desktop_views\",\n",
    "      \"pagecount_mobile_views\",\n",
    "      \"pageview_all_views\",\n",
    "      \"pageview_desktop_views\",\n",
    "      \"pageview_mobile_views\"\n",
    "     ]]"
   ]
  },
  {
   "cell_type": "code",
   "execution_count": 14,
   "metadata": {},
   "outputs": [],
   "source": [
    "# write out to csv\n",
    "data.to_csv(\"data_clean/en-wikipedia_traffic_200712-202108.csv\")"
   ]
  },
  {
   "cell_type": "markdown",
   "metadata": {},
   "source": [
    "# Data Analysis"
   ]
  },
  {
   "cell_type": "markdown",
   "metadata": {},
   "source": [
    "Your visualization will track three traffic metrics: mobile traffic, desktop traffic, and all traffic (mobile + desktop).\n",
    "In order to complete the analysis correctly and receive full credit, your graph will need to be the right scale to view the data; all units, axes, and values should be clearly labeled. Your graph should possess a legend and a title. You must generate a .png or .jpeg formatted image of your final graph.\n"
   ]
  },
  {
   "cell_type": "code",
   "execution_count": 15,
   "metadata": {},
   "outputs": [],
   "source": [
    "data[\"date\"] = pd.to_datetime(data[\"Year\"].astype('str') + data[\"Month\"].astype('str'),format='%Y%m')"
   ]
  },
  {
   "cell_type": "code",
   "execution_count": 16,
   "metadata": {},
   "outputs": [],
   "source": [
    "melted_data = pd.melt(data,\n",
    "        id_vars = [\"Year\",\"Month\",\"date\"],\n",
    "        var_name = \"View Type\",\n",
    "        value_name = \"View Count\"\n",
    "       )"
   ]
  },
  {
   "cell_type": "code",
   "execution_count": 17,
   "metadata": {},
   "outputs": [
    {
     "data": {
      "text/html": [
       "<div>\n",
       "<style scoped>\n",
       "    .dataframe tbody tr th:only-of-type {\n",
       "        vertical-align: middle;\n",
       "    }\n",
       "\n",
       "    .dataframe tbody tr th {\n",
       "        vertical-align: top;\n",
       "    }\n",
       "\n",
       "    .dataframe thead th {\n",
       "        text-align: right;\n",
       "    }\n",
       "</style>\n",
       "<table border=\"1\" class=\"dataframe\">\n",
       "  <thead>\n",
       "    <tr style=\"text-align: right;\">\n",
       "      <th></th>\n",
       "      <th>Year</th>\n",
       "      <th>Month</th>\n",
       "      <th>date</th>\n",
       "      <th>View Type</th>\n",
       "      <th>View Count</th>\n",
       "    </tr>\n",
       "  </thead>\n",
       "  <tbody>\n",
       "    <tr>\n",
       "      <th>0</th>\n",
       "      <td>2008</td>\n",
       "      <td>01</td>\n",
       "      <td>2008-01-01</td>\n",
       "      <td>pagecount_all_views</td>\n",
       "      <td>4.930903e+09</td>\n",
       "    </tr>\n",
       "    <tr>\n",
       "      <th>1</th>\n",
       "      <td>2008</td>\n",
       "      <td>02</td>\n",
       "      <td>2008-02-01</td>\n",
       "      <td>pagecount_all_views</td>\n",
       "      <td>4.818394e+09</td>\n",
       "    </tr>\n",
       "    <tr>\n",
       "      <th>2</th>\n",
       "      <td>2008</td>\n",
       "      <td>03</td>\n",
       "      <td>2008-03-01</td>\n",
       "      <td>pagecount_all_views</td>\n",
       "      <td>4.955406e+09</td>\n",
       "    </tr>\n",
       "    <tr>\n",
       "      <th>3</th>\n",
       "      <td>2008</td>\n",
       "      <td>04</td>\n",
       "      <td>2008-04-01</td>\n",
       "      <td>pagecount_all_views</td>\n",
       "      <td>5.159162e+09</td>\n",
       "    </tr>\n",
       "    <tr>\n",
       "      <th>4</th>\n",
       "      <td>2008</td>\n",
       "      <td>05</td>\n",
       "      <td>2008-05-01</td>\n",
       "      <td>pagecount_all_views</td>\n",
       "      <td>5.584691e+09</td>\n",
       "    </tr>\n",
       "    <tr>\n",
       "      <th>...</th>\n",
       "      <td>...</td>\n",
       "      <td>...</td>\n",
       "      <td>...</td>\n",
       "      <td>...</td>\n",
       "      <td>...</td>\n",
       "    </tr>\n",
       "    <tr>\n",
       "      <th>979</th>\n",
       "      <td>2021</td>\n",
       "      <td>04</td>\n",
       "      <td>2021-04-01</td>\n",
       "      <td>pageview_mobile_views</td>\n",
       "      <td>4.759095e+09</td>\n",
       "    </tr>\n",
       "    <tr>\n",
       "      <th>980</th>\n",
       "      <td>2021</td>\n",
       "      <td>05</td>\n",
       "      <td>2021-05-01</td>\n",
       "      <td>pageview_mobile_views</td>\n",
       "      <td>4.976580e+09</td>\n",
       "    </tr>\n",
       "    <tr>\n",
       "      <th>981</th>\n",
       "      <td>2021</td>\n",
       "      <td>06</td>\n",
       "      <td>2021-06-01</td>\n",
       "      <td>pageview_mobile_views</td>\n",
       "      <td>4.584510e+09</td>\n",
       "    </tr>\n",
       "    <tr>\n",
       "      <th>982</th>\n",
       "      <td>2021</td>\n",
       "      <td>07</td>\n",
       "      <td>2021-07-01</td>\n",
       "      <td>pageview_mobile_views</td>\n",
       "      <td>4.778909e+09</td>\n",
       "    </tr>\n",
       "    <tr>\n",
       "      <th>983</th>\n",
       "      <td>2021</td>\n",
       "      <td>08</td>\n",
       "      <td>2021-08-01</td>\n",
       "      <td>pageview_mobile_views</td>\n",
       "      <td>4.732194e+09</td>\n",
       "    </tr>\n",
       "  </tbody>\n",
       "</table>\n",
       "<p>984 rows × 5 columns</p>\n",
       "</div>"
      ],
      "text/plain": [
       "     Year Month       date              View Type    View Count\n",
       "0    2008    01 2008-01-01    pagecount_all_views  4.930903e+09\n",
       "1    2008    02 2008-02-01    pagecount_all_views  4.818394e+09\n",
       "2    2008    03 2008-03-01    pagecount_all_views  4.955406e+09\n",
       "3    2008    04 2008-04-01    pagecount_all_views  5.159162e+09\n",
       "4    2008    05 2008-05-01    pagecount_all_views  5.584691e+09\n",
       "..    ...   ...        ...                    ...           ...\n",
       "979  2021    04 2021-04-01  pageview_mobile_views  4.759095e+09\n",
       "980  2021    05 2021-05-01  pageview_mobile_views  4.976580e+09\n",
       "981  2021    06 2021-06-01  pageview_mobile_views  4.584510e+09\n",
       "982  2021    07 2021-07-01  pageview_mobile_views  4.778909e+09\n",
       "983  2021    08 2021-08-01  pageview_mobile_views  4.732194e+09\n",
       "\n",
       "[984 rows x 5 columns]"
      ]
     },
     "execution_count": 17,
     "metadata": {},
     "output_type": "execute_result"
    }
   ],
   "source": [
    "melted_data"
   ]
  },
  {
   "cell_type": "code",
   "execution_count": 25,
   "metadata": {},
   "outputs": [],
   "source": [
    "chart = alt.Chart(melted_data[melted_data[\"View Count\"]!=0],title = \"Wikipedia Traffic (Jan 2008 - Oct 2021)\").mark_line(opacity=1).encode(\n",
    "    x = alt.X(\"yearmonth(date)\",title = \"Date\"),\n",
    "    y = \"View Count:Q\",\n",
    "    color = \"View Type\",   \n",
    ")"
   ]
  },
  {
   "cell_type": "code",
   "execution_count": 26,
   "metadata": {},
   "outputs": [
    {
     "data": {
      "text/html": [
       "\n",
       "<div id=\"altair-viz-3ad5999c2e3d42da8da3dff4152f3505\"></div>\n",
       "<script type=\"text/javascript\">\n",
       "  (function(spec, embedOpt){\n",
       "    let outputDiv = document.currentScript.previousElementSibling;\n",
       "    if (outputDiv.id !== \"altair-viz-3ad5999c2e3d42da8da3dff4152f3505\") {\n",
       "      outputDiv = document.getElementById(\"altair-viz-3ad5999c2e3d42da8da3dff4152f3505\");\n",
       "    }\n",
       "    const paths = {\n",
       "      \"vega\": \"https://cdn.jsdelivr.net/npm//vega@5?noext\",\n",
       "      \"vega-lib\": \"https://cdn.jsdelivr.net/npm//vega-lib?noext\",\n",
       "      \"vega-lite\": \"https://cdn.jsdelivr.net/npm//vega-lite@4.8.1?noext\",\n",
       "      \"vega-embed\": \"https://cdn.jsdelivr.net/npm//vega-embed@6?noext\",\n",
       "    };\n",
       "\n",
       "    function loadScript(lib) {\n",
       "      return new Promise(function(resolve, reject) {\n",
       "        var s = document.createElement('script');\n",
       "        s.src = paths[lib];\n",
       "        s.async = true;\n",
       "        s.onload = () => resolve(paths[lib]);\n",
       "        s.onerror = () => reject(`Error loading script: ${paths[lib]}`);\n",
       "        document.getElementsByTagName(\"head\")[0].appendChild(s);\n",
       "      });\n",
       "    }\n",
       "\n",
       "    function showError(err) {\n",
       "      outputDiv.innerHTML = `<div class=\"error\" style=\"color:red;\">${err}</div>`;\n",
       "      throw err;\n",
       "    }\n",
       "\n",
       "    function displayChart(vegaEmbed) {\n",
       "      vegaEmbed(outputDiv, spec, embedOpt)\n",
       "        .catch(err => showError(`Javascript Error: ${err.message}<br>This usually means there's a typo in your chart specification. See the javascript console for the full traceback.`));\n",
       "    }\n",
       "\n",
       "    if(typeof define === \"function\" && define.amd) {\n",
       "      requirejs.config({paths});\n",
       "      require([\"vega-embed\"], displayChart, err => showError(`Error loading script: ${err.message}`));\n",
       "    } else if (typeof vegaEmbed === \"function\") {\n",
       "      displayChart(vegaEmbed);\n",
       "    } else {\n",
       "      loadScript(\"vega\")\n",
       "        .then(() => loadScript(\"vega-lite\"))\n",
       "        .then(() => loadScript(\"vega-embed\"))\n",
       "        .catch(showError)\n",
       "        .then(() => displayChart(vegaEmbed));\n",
       "    }\n",
       "  })({\"config\": {\"view\": {\"continuousWidth\": 400, \"continuousHeight\": 300}}, \"data\": {\"name\": \"data-80af93c754c2bfecfe2d55bcf07d929b\"}, \"mark\": {\"type\": \"line\", \"opacity\": 1}, \"encoding\": {\"color\": {\"type\": \"nominal\", \"field\": \"View Type\"}, \"x\": {\"type\": \"temporal\", \"field\": \"date\", \"timeUnit\": \"yearmonth\", \"title\": \"Date\"}, \"y\": {\"type\": \"quantitative\", \"field\": \"View Count\"}}, \"title\": \"Wikipedia Traffic (Jan 2008 - Oct 2021)\", \"$schema\": \"https://vega.github.io/schema/vega-lite/v4.8.1.json\", \"datasets\": {\"data-80af93c754c2bfecfe2d55bcf07d929b\": [{\"Year\": \"2008\", \"Month\": \"01\", \"date\": \"2008-01-01T00:00:00\", \"View Type\": \"pagecount_all_views\", \"View Count\": 4930902570.0}, {\"Year\": \"2008\", \"Month\": \"02\", \"date\": \"2008-02-01T00:00:00\", \"View Type\": \"pagecount_all_views\", \"View Count\": 4818393763.0}, {\"Year\": \"2008\", \"Month\": \"03\", \"date\": \"2008-03-01T00:00:00\", \"View Type\": \"pagecount_all_views\", \"View Count\": 4955405809.0}, {\"Year\": \"2008\", \"Month\": \"04\", \"date\": \"2008-04-01T00:00:00\", \"View Type\": \"pagecount_all_views\", \"View Count\": 5159162183.0}, {\"Year\": \"2008\", \"Month\": \"05\", \"date\": \"2008-05-01T00:00:00\", \"View Type\": \"pagecount_all_views\", \"View Count\": 5584691092.0}, {\"Year\": \"2008\", \"Month\": \"06\", \"date\": \"2008-06-01T00:00:00\", \"View Type\": \"pagecount_all_views\", \"View Count\": 5712104279.0}, {\"Year\": \"2008\", \"Month\": \"07\", \"date\": \"2008-07-01T00:00:00\", \"View Type\": \"pagecount_all_views\", \"View Count\": 5306302874.0}, {\"Year\": \"2008\", \"Month\": \"08\", \"date\": \"2008-08-01T00:00:00\", \"View Type\": \"pagecount_all_views\", \"View Count\": 5140155519.0}, {\"Year\": \"2008\", \"Month\": \"09\", \"date\": \"2008-09-01T00:00:00\", \"View Type\": \"pagecount_all_views\", \"View Count\": 5479533823.0}, {\"Year\": \"2008\", \"Month\": \"10\", \"date\": \"2008-10-01T00:00:00\", \"View Type\": \"pagecount_all_views\", \"View Count\": 5679440782.0}, {\"Year\": \"2008\", \"Month\": \"11\", \"date\": \"2008-11-01T00:00:00\", \"View Type\": \"pagecount_all_views\", \"View Count\": 5415832071.0}, {\"Year\": \"2008\", \"Month\": \"12\", \"date\": \"2008-12-01T00:00:00\", \"View Type\": \"pagecount_all_views\", \"View Count\": 5211708451.0}, {\"Year\": \"2009\", \"Month\": \"01\", \"date\": \"2009-01-01T00:00:00\", \"View Type\": \"pagecount_all_views\", \"View Count\": 5802681551.0}, {\"Year\": \"2009\", \"Month\": \"02\", \"date\": \"2009-02-01T00:00:00\", \"View Type\": \"pagecount_all_views\", \"View Count\": 5547320860.0}, {\"Year\": \"2009\", \"Month\": \"03\", \"date\": \"2009-03-01T00:00:00\", \"View Type\": \"pagecount_all_views\", \"View Count\": 6295159057.0}, {\"Year\": \"2009\", \"Month\": \"04\", \"date\": \"2009-04-01T00:00:00\", \"View Type\": \"pagecount_all_views\", \"View Count\": 5988817321.0}, {\"Year\": \"2009\", \"Month\": \"05\", \"date\": \"2009-05-01T00:00:00\", \"View Type\": \"pagecount_all_views\", \"View Count\": 6267516733.0}, {\"Year\": \"2009\", \"Month\": \"06\", \"date\": \"2009-06-01T00:00:00\", \"View Type\": \"pagecount_all_views\", \"View Count\": 5818924182.0}, {\"Year\": \"2009\", \"Month\": \"07\", \"date\": \"2009-07-01T00:00:00\", \"View Type\": \"pagecount_all_views\", \"View Count\": 5801646978.0}, {\"Year\": \"2009\", \"Month\": \"08\", \"date\": \"2009-08-01T00:00:00\", \"View Type\": \"pagecount_all_views\", \"View Count\": 5790850384.0}, {\"Year\": \"2009\", \"Month\": \"09\", \"date\": \"2009-09-01T00:00:00\", \"View Type\": \"pagecount_all_views\", \"View Count\": 4057515768.0}, {\"Year\": \"2009\", \"Month\": \"10\", \"date\": \"2009-10-01T00:00:00\", \"View Type\": \"pagecount_all_views\", \"View Count\": 6016107147.0}, {\"Year\": \"2009\", \"Month\": \"11\", \"date\": \"2009-11-01T00:00:00\", \"View Type\": \"pagecount_all_views\", \"View Count\": 5768486910.0}, {\"Year\": \"2009\", \"Month\": \"12\", \"date\": \"2009-12-01T00:00:00\", \"View Type\": \"pagecount_all_views\", \"View Count\": 5426505977.0}, {\"Year\": \"2010\", \"Month\": \"01\", \"date\": \"2010-01-01T00:00:00\", \"View Type\": \"pagecount_all_views\", \"View Count\": 5703465285.0}, {\"Year\": \"2010\", \"Month\": \"02\", \"date\": \"2010-02-01T00:00:00\", \"View Type\": \"pagecount_all_views\", \"View Count\": 5762451418.0}, {\"Year\": \"2010\", \"Month\": \"03\", \"date\": \"2010-03-01T00:00:00\", \"View Type\": \"pagecount_all_views\", \"View Count\": 6661347946.0}, {\"Year\": \"2010\", \"Month\": \"04\", \"date\": \"2010-04-01T00:00:00\", \"View Type\": \"pagecount_all_views\", \"View Count\": 6618552152.0}, {\"Year\": \"2010\", \"Month\": \"05\", \"date\": \"2010-05-01T00:00:00\", \"View Type\": \"pagecount_all_views\", \"View Count\": 6410578775.0}, {\"Year\": \"2010\", \"Month\": \"06\", \"date\": \"2010-06-01T00:00:00\", \"View Type\": \"pagecount_all_views\", \"View Count\": 4898035014.0}, {\"Year\": \"2010\", \"Month\": \"07\", \"date\": \"2010-07-01T00:00:00\", \"View Type\": \"pagecount_all_views\", \"View Count\": 5296177638.0}, {\"Year\": \"2010\", \"Month\": \"08\", \"date\": \"2010-08-01T00:00:00\", \"View Type\": \"pagecount_all_views\", \"View Count\": 7381346660.0}, {\"Year\": \"2010\", \"Month\": \"09\", \"date\": \"2010-09-01T00:00:00\", \"View Type\": \"pagecount_all_views\", \"View Count\": 7546488744.0}, {\"Year\": \"2010\", \"Month\": \"10\", \"date\": \"2010-10-01T00:00:00\", \"View Type\": \"pagecount_all_views\", \"View Count\": 10172844562.0}, {\"Year\": \"2010\", \"Month\": \"11\", \"date\": \"2010-11-01T00:00:00\", \"View Type\": \"pagecount_all_views\", \"View Count\": 6948678354.0}, {\"Year\": \"2010\", \"Month\": \"12\", \"date\": \"2010-12-01T00:00:00\", \"View Type\": \"pagecount_all_views\", \"View Count\": 7001952100.0}, {\"Year\": \"2011\", \"Month\": \"01\", \"date\": \"2011-01-01T00:00:00\", \"View Type\": \"pagecount_all_views\", \"View Count\": 7568511227.0}, {\"Year\": \"2011\", \"Month\": \"02\", \"date\": \"2011-02-01T00:00:00\", \"View Type\": \"pagecount_all_views\", \"View Count\": 6906248849.0}, {\"Year\": \"2011\", \"Month\": \"03\", \"date\": \"2011-03-01T00:00:00\", \"View Type\": \"pagecount_all_views\", \"View Count\": 7326545928.0}, {\"Year\": \"2011\", \"Month\": \"04\", \"date\": \"2011-04-01T00:00:00\", \"View Type\": \"pagecount_all_views\", \"View Count\": 6835492088.0}, {\"Year\": \"2011\", \"Month\": \"05\", \"date\": \"2011-05-01T00:00:00\", \"View Type\": \"pagecount_all_views\", \"View Count\": 7009799378.0}, {\"Year\": \"2011\", \"Month\": \"06\", \"date\": \"2011-06-01T00:00:00\", \"View Type\": \"pagecount_all_views\", \"View Count\": 6536675534.0}, {\"Year\": \"2011\", \"Month\": \"07\", \"date\": \"2011-07-01T00:00:00\", \"View Type\": \"pagecount_all_views\", \"View Count\": 6571730164.0}, {\"Year\": \"2011\", \"Month\": \"08\", \"date\": \"2011-08-01T00:00:00\", \"View Type\": \"pagecount_all_views\", \"View Count\": 6514500361.0}, {\"Year\": \"2011\", \"Month\": \"09\", \"date\": \"2011-09-01T00:00:00\", \"View Type\": \"pagecount_all_views\", \"View Count\": 5837738935.0}, {\"Year\": \"2011\", \"Month\": \"10\", \"date\": \"2011-10-01T00:00:00\", \"View Type\": \"pagecount_all_views\", \"View Count\": 6974424665.0}, {\"Year\": \"2011\", \"Month\": \"11\", \"date\": \"2011-11-01T00:00:00\", \"View Type\": \"pagecount_all_views\", \"View Count\": 7507641641.0}, {\"Year\": \"2011\", \"Month\": \"12\", \"date\": \"2011-12-01T00:00:00\", \"View Type\": \"pagecount_all_views\", \"View Count\": 6396357939.0}, {\"Year\": \"2012\", \"Month\": \"01\", \"date\": \"2012-01-01T00:00:00\", \"View Type\": \"pagecount_all_views\", \"View Count\": 7808477339.0}, {\"Year\": \"2012\", \"Month\": \"02\", \"date\": \"2012-02-01T00:00:00\", \"View Type\": \"pagecount_all_views\", \"View Count\": 7530127141.0}, {\"Year\": \"2012\", \"Month\": \"03\", \"date\": \"2012-03-01T00:00:00\", \"View Type\": \"pagecount_all_views\", \"View Count\": 7358543625.0}, {\"Year\": \"2012\", \"Month\": \"04\", \"date\": \"2012-04-01T00:00:00\", \"View Type\": \"pagecount_all_views\", \"View Count\": 7220029422.0}, {\"Year\": \"2012\", \"Month\": \"05\", \"date\": \"2012-05-01T00:00:00\", \"View Type\": \"pagecount_all_views\", \"View Count\": 7784479302.0}, {\"Year\": \"2012\", \"Month\": \"06\", \"date\": \"2012-06-01T00:00:00\", \"View Type\": \"pagecount_all_views\", \"View Count\": 7524265988.0}, {\"Year\": \"2012\", \"Month\": \"07\", \"date\": \"2012-07-01T00:00:00\", \"View Type\": \"pagecount_all_views\", \"View Count\": 7819376527.0}, {\"Year\": \"2012\", \"Month\": \"08\", \"date\": \"2012-08-01T00:00:00\", \"View Type\": \"pagecount_all_views\", \"View Count\": 7885641059.0}, {\"Year\": \"2012\", \"Month\": \"09\", \"date\": \"2012-09-01T00:00:00\", \"View Type\": \"pagecount_all_views\", \"View Count\": 7913689733.0}, {\"Year\": \"2012\", \"Month\": \"10\", \"date\": \"2012-10-01T00:00:00\", \"View Type\": \"pagecount_all_views\", \"View Count\": 8379960050.0}, {\"Year\": \"2012\", \"Month\": \"11\", \"date\": \"2012-11-01T00:00:00\", \"View Type\": \"pagecount_all_views\", \"View Count\": 8219987195.0}, {\"Year\": \"2012\", \"Month\": \"12\", \"date\": \"2012-12-01T00:00:00\", \"View Type\": \"pagecount_all_views\", \"View Count\": 8033826900.0}, {\"Year\": \"2013\", \"Month\": \"01\", \"date\": \"2013-01-01T00:00:00\", \"View Type\": \"pagecount_all_views\", \"View Count\": 9126210673.0}, {\"Year\": \"2013\", \"Month\": \"02\", \"date\": \"2013-02-01T00:00:00\", \"View Type\": \"pagecount_all_views\", \"View Count\": 8100597857.0}, {\"Year\": \"2013\", \"Month\": \"03\", \"date\": \"2013-03-01T00:00:00\", \"View Type\": \"pagecount_all_views\", \"View Count\": 8701419671.0}, {\"Year\": \"2013\", \"Month\": \"04\", \"date\": \"2013-04-01T00:00:00\", \"View Type\": \"pagecount_all_views\", \"View Count\": 8049296729.0}, {\"Year\": \"2013\", \"Month\": \"05\", \"date\": \"2013-05-01T00:00:00\", \"View Type\": \"pagecount_all_views\", \"View Count\": 8089099883.0}, {\"Year\": \"2013\", \"Month\": \"06\", \"date\": \"2013-06-01T00:00:00\", \"View Type\": \"pagecount_all_views\", \"View Count\": 7759959725.0}, {\"Year\": \"2013\", \"Month\": \"07\", \"date\": \"2013-07-01T00:00:00\", \"View Type\": \"pagecount_all_views\", \"View Count\": 8237301982.0}, {\"Year\": \"2013\", \"Month\": \"08\", \"date\": \"2013-08-01T00:00:00\", \"View Type\": \"pagecount_all_views\", \"View Count\": 9306122925.0}, {\"Year\": \"2013\", \"Month\": \"09\", \"date\": \"2013-09-01T00:00:00\", \"View Type\": \"pagecount_all_views\", \"View Count\": 9985326806.0}, {\"Year\": \"2013\", \"Month\": \"10\", \"date\": \"2013-10-01T00:00:00\", \"View Type\": \"pagecount_all_views\", \"View Count\": 10775158269.0}, {\"Year\": \"2013\", \"Month\": \"11\", \"date\": \"2013-11-01T00:00:00\", \"View Type\": \"pagecount_all_views\", \"View Count\": 10414877805.0}, {\"Year\": \"2013\", \"Month\": \"12\", \"date\": \"2013-12-01T00:00:00\", \"View Type\": \"pagecount_all_views\", \"View Count\": 7102459747.0}, {\"Year\": \"2014\", \"Month\": \"01\", \"date\": \"2014-01-01T00:00:00\", \"View Type\": \"pagecount_all_views\", \"View Count\": 7026531269.0}, {\"Year\": \"2014\", \"Month\": \"02\", \"date\": \"2014-02-01T00:00:00\", \"View Type\": \"pagecount_all_views\", \"View Count\": 6718243109.0}, {\"Year\": \"2014\", \"Month\": \"03\", \"date\": \"2014-03-01T00:00:00\", \"View Type\": \"pagecount_all_views\", \"View Count\": 7464128273.0}, {\"Year\": \"2014\", \"Month\": \"04\", \"date\": \"2014-04-01T00:00:00\", \"View Type\": \"pagecount_all_views\", \"View Count\": 7216245221.0}, {\"Year\": \"2014\", \"Month\": \"05\", \"date\": \"2014-05-01T00:00:00\", \"View Type\": \"pagecount_all_views\", \"View Count\": 7543277646.0}, {\"Year\": \"2014\", \"Month\": \"06\", \"date\": \"2014-06-01T00:00:00\", \"View Type\": \"pagecount_all_views\", \"View Count\": 6577352648.0}, {\"Year\": \"2014\", \"Month\": \"07\", \"date\": \"2014-07-01T00:00:00\", \"View Type\": \"pagecount_all_views\", \"View Count\": 6761059566.0}, {\"Year\": \"2014\", \"Month\": \"08\", \"date\": \"2014-08-01T00:00:00\", \"View Type\": \"pagecount_all_views\", \"View Count\": 6687313714.0}, {\"Year\": \"2014\", \"Month\": \"09\", \"date\": \"2014-09-01T00:00:00\", \"View Type\": \"pagecount_all_views\", \"View Count\": 7564600999.0}, {\"Year\": \"2014\", \"Month\": \"10\", \"date\": \"2014-10-01T00:00:00\", \"View Type\": \"pagecount_all_views\", \"View Count\": 9669079813.0}, {\"Year\": \"2014\", \"Month\": \"11\", \"date\": \"2014-11-01T00:00:00\", \"View Type\": \"pagecount_all_views\", \"View Count\": 9181027274.0}, {\"Year\": \"2014\", \"Month\": \"12\", \"date\": \"2014-12-01T00:00:00\", \"View Type\": \"pagecount_all_views\", \"View Count\": 9109282269.0}, {\"Year\": \"2015\", \"Month\": \"01\", \"date\": \"2015-01-01T00:00:00\", \"View Type\": \"pagecount_all_views\", \"View Count\": 9589069146.0}, {\"Year\": \"2015\", \"Month\": \"02\", \"date\": \"2015-02-01T00:00:00\", \"View Type\": \"pagecount_all_views\", \"View Count\": 8694244918.0}, {\"Year\": \"2015\", \"Month\": \"03\", \"date\": \"2015-03-01T00:00:00\", \"View Type\": \"pagecount_all_views\", \"View Count\": 9677435301.0}, {\"Year\": \"2015\", \"Month\": \"04\", \"date\": \"2015-04-01T00:00:00\", \"View Type\": \"pagecount_all_views\", \"View Count\": 9421035574.0}, {\"Year\": \"2015\", \"Month\": \"05\", \"date\": \"2015-05-01T00:00:00\", \"View Type\": \"pagecount_all_views\", \"View Count\": 9657871297.0}, {\"Year\": \"2015\", \"Month\": \"06\", \"date\": \"2015-06-01T00:00:00\", \"View Type\": \"pagecount_all_views\", \"View Count\": 8203576103.0}, {\"Year\": \"2015\", \"Month\": \"07\", \"date\": \"2015-07-01T00:00:00\", \"View Type\": \"pagecount_all_views\", \"View Count\": 8483698717.0}, {\"Year\": \"2015\", \"Month\": \"08\", \"date\": \"2015-08-01T00:00:00\", \"View Type\": \"pagecount_all_views\", \"View Count\": 8304022031.0}, {\"Year\": \"2015\", \"Month\": \"09\", \"date\": \"2015-09-01T00:00:00\", \"View Type\": \"pagecount_all_views\", \"View Count\": 8582061182.0}, {\"Year\": \"2015\", \"Month\": \"10\", \"date\": \"2015-10-01T00:00:00\", \"View Type\": \"pagecount_all_views\", \"View Count\": 8781786976.0}, {\"Year\": \"2015\", \"Month\": \"11\", \"date\": \"2015-11-01T00:00:00\", \"View Type\": \"pagecount_all_views\", \"View Count\": 8515190628.0}, {\"Year\": \"2015\", \"Month\": \"12\", \"date\": \"2015-12-01T00:00:00\", \"View Type\": \"pagecount_all_views\", \"View Count\": 8651858036.0}, {\"Year\": \"2016\", \"Month\": \"01\", \"date\": \"2016-01-01T00:00:00\", \"View Type\": \"pagecount_all_views\", \"View Count\": 9309261244.0}, {\"Year\": \"2016\", \"Month\": \"02\", \"date\": \"2016-02-01T00:00:00\", \"View Type\": \"pagecount_all_views\", \"View Count\": 8680940753.0}, {\"Year\": \"2016\", \"Month\": \"03\", \"date\": \"2016-03-01T00:00:00\", \"View Type\": \"pagecount_all_views\", \"View Count\": 8827529692.0}, {\"Year\": \"2016\", \"Month\": \"04\", \"date\": \"2016-04-01T00:00:00\", \"View Type\": \"pagecount_all_views\", \"View Count\": 8873620523.0}, {\"Year\": \"2016\", \"Month\": \"05\", \"date\": \"2016-05-01T00:00:00\", \"View Type\": \"pagecount_all_views\", \"View Count\": 8748968139.0}, {\"Year\": \"2016\", \"Month\": \"06\", \"date\": \"2016-06-01T00:00:00\", \"View Type\": \"pagecount_all_views\", \"View Count\": 8347710510.0}, {\"Year\": \"2016\", \"Month\": \"07\", \"date\": \"2016-07-01T00:00:00\", \"View Type\": \"pagecount_all_views\", \"View Count\": 8864627560.0}, {\"Year\": \"2008\", \"Month\": \"01\", \"date\": \"2008-01-01T00:00:00\", \"View Type\": \"pagecount_desktop_views\", \"View Count\": 4930902570.0}, {\"Year\": \"2008\", \"Month\": \"02\", \"date\": \"2008-02-01T00:00:00\", \"View Type\": \"pagecount_desktop_views\", \"View Count\": 4818393763.0}, {\"Year\": \"2008\", \"Month\": \"03\", \"date\": \"2008-03-01T00:00:00\", \"View Type\": \"pagecount_desktop_views\", \"View Count\": 4955405809.0}, {\"Year\": \"2008\", \"Month\": \"04\", \"date\": \"2008-04-01T00:00:00\", \"View Type\": \"pagecount_desktop_views\", \"View Count\": 5159162183.0}, {\"Year\": \"2008\", \"Month\": \"05\", \"date\": \"2008-05-01T00:00:00\", \"View Type\": \"pagecount_desktop_views\", \"View Count\": 5584691092.0}, {\"Year\": \"2008\", \"Month\": \"06\", \"date\": \"2008-06-01T00:00:00\", \"View Type\": \"pagecount_desktop_views\", \"View Count\": 5712104279.0}, {\"Year\": \"2008\", \"Month\": \"07\", \"date\": \"2008-07-01T00:00:00\", \"View Type\": \"pagecount_desktop_views\", \"View Count\": 5306302874.0}, {\"Year\": \"2008\", \"Month\": \"08\", \"date\": \"2008-08-01T00:00:00\", \"View Type\": \"pagecount_desktop_views\", \"View Count\": 5140155519.0}, {\"Year\": \"2008\", \"Month\": \"09\", \"date\": \"2008-09-01T00:00:00\", \"View Type\": \"pagecount_desktop_views\", \"View Count\": 5479533823.0}, {\"Year\": \"2008\", \"Month\": \"10\", \"date\": \"2008-10-01T00:00:00\", \"View Type\": \"pagecount_desktop_views\", \"View Count\": 5679440782.0}, {\"Year\": \"2008\", \"Month\": \"11\", \"date\": \"2008-11-01T00:00:00\", \"View Type\": \"pagecount_desktop_views\", \"View Count\": 5415832071.0}, {\"Year\": \"2008\", \"Month\": \"12\", \"date\": \"2008-12-01T00:00:00\", \"View Type\": \"pagecount_desktop_views\", \"View Count\": 5211708451.0}, {\"Year\": \"2009\", \"Month\": \"01\", \"date\": \"2009-01-01T00:00:00\", \"View Type\": \"pagecount_desktop_views\", \"View Count\": 5802681551.0}, {\"Year\": \"2009\", \"Month\": \"02\", \"date\": \"2009-02-01T00:00:00\", \"View Type\": \"pagecount_desktop_views\", \"View Count\": 5547320860.0}, {\"Year\": \"2009\", \"Month\": \"03\", \"date\": \"2009-03-01T00:00:00\", \"View Type\": \"pagecount_desktop_views\", \"View Count\": 6295159057.0}, {\"Year\": \"2009\", \"Month\": \"04\", \"date\": \"2009-04-01T00:00:00\", \"View Type\": \"pagecount_desktop_views\", \"View Count\": 5988817321.0}, {\"Year\": \"2009\", \"Month\": \"05\", \"date\": \"2009-05-01T00:00:00\", \"View Type\": \"pagecount_desktop_views\", \"View Count\": 6267516733.0}, {\"Year\": \"2009\", \"Month\": \"06\", \"date\": \"2009-06-01T00:00:00\", \"View Type\": \"pagecount_desktop_views\", \"View Count\": 5818924182.0}, {\"Year\": \"2009\", \"Month\": \"07\", \"date\": \"2009-07-01T00:00:00\", \"View Type\": \"pagecount_desktop_views\", \"View Count\": 5801646978.0}, {\"Year\": \"2009\", \"Month\": \"08\", \"date\": \"2009-08-01T00:00:00\", \"View Type\": \"pagecount_desktop_views\", \"View Count\": 5790850384.0}, {\"Year\": \"2009\", \"Month\": \"09\", \"date\": \"2009-09-01T00:00:00\", \"View Type\": \"pagecount_desktop_views\", \"View Count\": 4057515768.0}, {\"Year\": \"2009\", \"Month\": \"10\", \"date\": \"2009-10-01T00:00:00\", \"View Type\": \"pagecount_desktop_views\", \"View Count\": 6016107147.0}, {\"Year\": \"2009\", \"Month\": \"11\", \"date\": \"2009-11-01T00:00:00\", \"View Type\": \"pagecount_desktop_views\", \"View Count\": 5768486910.0}, {\"Year\": \"2009\", \"Month\": \"12\", \"date\": \"2009-12-01T00:00:00\", \"View Type\": \"pagecount_desktop_views\", \"View Count\": 5426505977.0}, {\"Year\": \"2010\", \"Month\": \"01\", \"date\": \"2010-01-01T00:00:00\", \"View Type\": \"pagecount_desktop_views\", \"View Count\": 5703465285.0}, {\"Year\": \"2010\", \"Month\": \"02\", \"date\": \"2010-02-01T00:00:00\", \"View Type\": \"pagecount_desktop_views\", \"View Count\": 5762451418.0}, {\"Year\": \"2010\", \"Month\": \"03\", \"date\": \"2010-03-01T00:00:00\", \"View Type\": \"pagecount_desktop_views\", \"View Count\": 6661347946.0}, {\"Year\": \"2010\", \"Month\": \"04\", \"date\": \"2010-04-01T00:00:00\", \"View Type\": \"pagecount_desktop_views\", \"View Count\": 6618552152.0}, {\"Year\": \"2010\", \"Month\": \"05\", \"date\": \"2010-05-01T00:00:00\", \"View Type\": \"pagecount_desktop_views\", \"View Count\": 6410578775.0}, {\"Year\": \"2010\", \"Month\": \"06\", \"date\": \"2010-06-01T00:00:00\", \"View Type\": \"pagecount_desktop_views\", \"View Count\": 4898035014.0}, {\"Year\": \"2010\", \"Month\": \"07\", \"date\": \"2010-07-01T00:00:00\", \"View Type\": \"pagecount_desktop_views\", \"View Count\": 5296177638.0}, {\"Year\": \"2010\", \"Month\": \"08\", \"date\": \"2010-08-01T00:00:00\", \"View Type\": \"pagecount_desktop_views\", \"View Count\": 7381346660.0}, {\"Year\": \"2010\", \"Month\": \"09\", \"date\": \"2010-09-01T00:00:00\", \"View Type\": \"pagecount_desktop_views\", \"View Count\": 7546488744.0}, {\"Year\": \"2010\", \"Month\": \"10\", \"date\": \"2010-10-01T00:00:00\", \"View Type\": \"pagecount_desktop_views\", \"View Count\": 10172844562.0}, {\"Year\": \"2010\", \"Month\": \"11\", \"date\": \"2010-11-01T00:00:00\", \"View Type\": \"pagecount_desktop_views\", \"View Count\": 6948678354.0}, {\"Year\": \"2010\", \"Month\": \"12\", \"date\": \"2010-12-01T00:00:00\", \"View Type\": \"pagecount_desktop_views\", \"View Count\": 7001952100.0}, {\"Year\": \"2011\", \"Month\": \"01\", \"date\": \"2011-01-01T00:00:00\", \"View Type\": \"pagecount_desktop_views\", \"View Count\": 7568511227.0}, {\"Year\": \"2011\", \"Month\": \"02\", \"date\": \"2011-02-01T00:00:00\", \"View Type\": \"pagecount_desktop_views\", \"View Count\": 6906248849.0}, {\"Year\": \"2011\", \"Month\": \"03\", \"date\": \"2011-03-01T00:00:00\", \"View Type\": \"pagecount_desktop_views\", \"View Count\": 7326545928.0}, {\"Year\": \"2011\", \"Month\": \"04\", \"date\": \"2011-04-01T00:00:00\", \"View Type\": \"pagecount_desktop_views\", \"View Count\": 6835492088.0}, {\"Year\": \"2011\", \"Month\": \"05\", \"date\": \"2011-05-01T00:00:00\", \"View Type\": \"pagecount_desktop_views\", \"View Count\": 7009799378.0}, {\"Year\": \"2011\", \"Month\": \"06\", \"date\": \"2011-06-01T00:00:00\", \"View Type\": \"pagecount_desktop_views\", \"View Count\": 6536675534.0}, {\"Year\": \"2011\", \"Month\": \"07\", \"date\": \"2011-07-01T00:00:00\", \"View Type\": \"pagecount_desktop_views\", \"View Count\": 6571730164.0}, {\"Year\": \"2011\", \"Month\": \"08\", \"date\": \"2011-08-01T00:00:00\", \"View Type\": \"pagecount_desktop_views\", \"View Count\": 6514500361.0}, {\"Year\": \"2011\", \"Month\": \"09\", \"date\": \"2011-09-01T00:00:00\", \"View Type\": \"pagecount_desktop_views\", \"View Count\": 5837738935.0}, {\"Year\": \"2011\", \"Month\": \"10\", \"date\": \"2011-10-01T00:00:00\", \"View Type\": \"pagecount_desktop_views\", \"View Count\": 6974424665.0}, {\"Year\": \"2011\", \"Month\": \"11\", \"date\": \"2011-11-01T00:00:00\", \"View Type\": \"pagecount_desktop_views\", \"View Count\": 7507641641.0}, {\"Year\": \"2011\", \"Month\": \"12\", \"date\": \"2011-12-01T00:00:00\", \"View Type\": \"pagecount_desktop_views\", \"View Count\": 6396357939.0}, {\"Year\": \"2012\", \"Month\": \"01\", \"date\": \"2012-01-01T00:00:00\", \"View Type\": \"pagecount_desktop_views\", \"View Count\": 7808477339.0}, {\"Year\": \"2012\", \"Month\": \"02\", \"date\": \"2012-02-01T00:00:00\", \"View Type\": \"pagecount_desktop_views\", \"View Count\": 7530127141.0}, {\"Year\": \"2012\", \"Month\": \"03\", \"date\": \"2012-03-01T00:00:00\", \"View Type\": \"pagecount_desktop_views\", \"View Count\": 7358543625.0}, {\"Year\": \"2012\", \"Month\": \"04\", \"date\": \"2012-04-01T00:00:00\", \"View Type\": \"pagecount_desktop_views\", \"View Count\": 7220029422.0}, {\"Year\": \"2012\", \"Month\": \"05\", \"date\": \"2012-05-01T00:00:00\", \"View Type\": \"pagecount_desktop_views\", \"View Count\": 7784479302.0}, {\"Year\": \"2012\", \"Month\": \"06\", \"date\": \"2012-06-01T00:00:00\", \"View Type\": \"pagecount_desktop_views\", \"View Count\": 7524265988.0}, {\"Year\": \"2012\", \"Month\": \"07\", \"date\": \"2012-07-01T00:00:00\", \"View Type\": \"pagecount_desktop_views\", \"View Count\": 7819376527.0}, {\"Year\": \"2012\", \"Month\": \"08\", \"date\": \"2012-08-01T00:00:00\", \"View Type\": \"pagecount_desktop_views\", \"View Count\": 7885641059.0}, {\"Year\": \"2012\", \"Month\": \"09\", \"date\": \"2012-09-01T00:00:00\", \"View Type\": \"pagecount_desktop_views\", \"View Count\": 7913689733.0}, {\"Year\": \"2012\", \"Month\": \"10\", \"date\": \"2012-10-01T00:00:00\", \"View Type\": \"pagecount_desktop_views\", \"View Count\": 8379960050.0}, {\"Year\": \"2012\", \"Month\": \"11\", \"date\": \"2012-11-01T00:00:00\", \"View Type\": \"pagecount_desktop_views\", \"View Count\": 8219987195.0}, {\"Year\": \"2012\", \"Month\": \"12\", \"date\": \"2012-12-01T00:00:00\", \"View Type\": \"pagecount_desktop_views\", \"View Count\": 8033826900.0}, {\"Year\": \"2013\", \"Month\": \"01\", \"date\": \"2013-01-01T00:00:00\", \"View Type\": \"pagecount_desktop_views\", \"View Count\": 9126210673.0}, {\"Year\": \"2013\", \"Month\": \"02\", \"date\": \"2013-02-01T00:00:00\", \"View Type\": \"pagecount_desktop_views\", \"View Count\": 8100597857.0}, {\"Year\": \"2013\", \"Month\": \"03\", \"date\": \"2013-03-01T00:00:00\", \"View Type\": \"pagecount_desktop_views\", \"View Count\": 8701419671.0}, {\"Year\": \"2013\", \"Month\": \"04\", \"date\": \"2013-04-01T00:00:00\", \"View Type\": \"pagecount_desktop_views\", \"View Count\": 8049296729.0}, {\"Year\": \"2013\", \"Month\": \"05\", \"date\": \"2013-05-01T00:00:00\", \"View Type\": \"pagecount_desktop_views\", \"View Count\": 8089099883.0}, {\"Year\": \"2013\", \"Month\": \"06\", \"date\": \"2013-06-01T00:00:00\", \"View Type\": \"pagecount_desktop_views\", \"View Count\": 7759959725.0}, {\"Year\": \"2013\", \"Month\": \"07\", \"date\": \"2013-07-01T00:00:00\", \"View Type\": \"pagecount_desktop_views\", \"View Count\": 8237301982.0}, {\"Year\": \"2013\", \"Month\": \"08\", \"date\": \"2013-08-01T00:00:00\", \"View Type\": \"pagecount_desktop_views\", \"View Count\": 9306122925.0}, {\"Year\": \"2013\", \"Month\": \"09\", \"date\": \"2013-09-01T00:00:00\", \"View Type\": \"pagecount_desktop_views\", \"View Count\": 9985326806.0}, {\"Year\": \"2013\", \"Month\": \"10\", \"date\": \"2013-10-01T00:00:00\", \"View Type\": \"pagecount_desktop_views\", \"View Count\": 10775158269.0}, {\"Year\": \"2013\", \"Month\": \"11\", \"date\": \"2013-11-01T00:00:00\", \"View Type\": \"pagecount_desktop_views\", \"View Count\": 10414877805.0}, {\"Year\": \"2013\", \"Month\": \"12\", \"date\": \"2013-12-01T00:00:00\", \"View Type\": \"pagecount_desktop_views\", \"View Count\": 7102459747.0}, {\"Year\": \"2014\", \"Month\": \"01\", \"date\": \"2014-01-01T00:00:00\", \"View Type\": \"pagecount_desktop_views\", \"View Count\": 7026531269.0}, {\"Year\": \"2014\", \"Month\": \"02\", \"date\": \"2014-02-01T00:00:00\", \"View Type\": \"pagecount_desktop_views\", \"View Count\": 6718243109.0}, {\"Year\": \"2014\", \"Month\": \"03\", \"date\": \"2014-03-01T00:00:00\", \"View Type\": \"pagecount_desktop_views\", \"View Count\": 7464128273.0}, {\"Year\": \"2014\", \"Month\": \"04\", \"date\": \"2014-04-01T00:00:00\", \"View Type\": \"pagecount_desktop_views\", \"View Count\": 7216245221.0}, {\"Year\": \"2014\", \"Month\": \"05\", \"date\": \"2014-05-01T00:00:00\", \"View Type\": \"pagecount_desktop_views\", \"View Count\": 7543277646.0}, {\"Year\": \"2014\", \"Month\": \"06\", \"date\": \"2014-06-01T00:00:00\", \"View Type\": \"pagecount_desktop_views\", \"View Count\": 6577352648.0}, {\"Year\": \"2014\", \"Month\": \"07\", \"date\": \"2014-07-01T00:00:00\", \"View Type\": \"pagecount_desktop_views\", \"View Count\": 6761059566.0}, {\"Year\": \"2014\", \"Month\": \"08\", \"date\": \"2014-08-01T00:00:00\", \"View Type\": \"pagecount_desktop_views\", \"View Count\": 6687313714.0}, {\"Year\": \"2014\", \"Month\": \"09\", \"date\": \"2014-09-01T00:00:00\", \"View Type\": \"pagecount_desktop_views\", \"View Count\": 7564600999.0}, {\"Year\": \"2014\", \"Month\": \"10\", \"date\": \"2014-10-01T00:00:00\", \"View Type\": \"pagecount_desktop_views\", \"View Count\": 6577533128.0}, {\"Year\": \"2014\", \"Month\": \"11\", \"date\": \"2014-11-01T00:00:00\", \"View Type\": \"pagecount_desktop_views\", \"View Count\": 6153537606.0}, {\"Year\": \"2014\", \"Month\": \"12\", \"date\": \"2014-12-01T00:00:00\", \"View Type\": \"pagecount_desktop_views\", \"View Count\": 5830332248.0}, {\"Year\": \"2015\", \"Month\": \"01\", \"date\": \"2015-01-01T00:00:00\", \"View Type\": \"pagecount_desktop_views\", \"View Count\": 6103767055.0}, {\"Year\": \"2015\", \"Month\": \"02\", \"date\": \"2015-02-01T00:00:00\", \"View Type\": \"pagecount_desktop_views\", \"View Count\": 5602710439.0}, {\"Year\": \"2015\", \"Month\": \"03\", \"date\": \"2015-03-01T00:00:00\", \"View Type\": \"pagecount_desktop_views\", \"View Count\": 6346602713.0}, {\"Year\": \"2015\", \"Month\": \"04\", \"date\": \"2015-04-01T00:00:00\", \"View Type\": \"pagecount_desktop_views\", \"View Count\": 6198945657.0}, {\"Year\": \"2015\", \"Month\": \"05\", \"date\": \"2015-05-01T00:00:00\", \"View Type\": \"pagecount_desktop_views\", \"View Count\": 6323801814.0}, {\"Year\": \"2015\", \"Month\": \"06\", \"date\": \"2015-06-01T00:00:00\", \"View Type\": \"pagecount_desktop_views\", \"View Count\": 5165413640.0}, {\"Year\": \"2015\", \"Month\": \"07\", \"date\": \"2015-07-01T00:00:00\", \"View Type\": \"pagecount_desktop_views\", \"View Count\": 5229226022.0}, {\"Year\": \"2015\", \"Month\": \"08\", \"date\": \"2015-08-01T00:00:00\", \"View Type\": \"pagecount_desktop_views\", \"View Count\": 5035534449.0}, {\"Year\": \"2015\", \"Month\": \"09\", \"date\": \"2015-09-01T00:00:00\", \"View Type\": \"pagecount_desktop_views\", \"View Count\": 5409631355.0}, {\"Year\": \"2015\", \"Month\": \"10\", \"date\": \"2015-10-01T00:00:00\", \"View Type\": \"pagecount_desktop_views\", \"View Count\": 5535704471.0}, {\"Year\": \"2015\", \"Month\": \"11\", \"date\": \"2015-11-01T00:00:00\", \"View Type\": \"pagecount_desktop_views\", \"View Count\": 5296956116.0}, {\"Year\": \"2015\", \"Month\": \"12\", \"date\": \"2015-12-01T00:00:00\", \"View Type\": \"pagecount_desktop_views\", \"View Count\": 5264446173.0}, {\"Year\": \"2016\", \"Month\": \"01\", \"date\": \"2016-01-01T00:00:00\", \"View Type\": \"pagecount_desktop_views\", \"View Count\": 5569632502.0}, {\"Year\": \"2016\", \"Month\": \"02\", \"date\": \"2016-02-01T00:00:00\", \"View Type\": \"pagecount_desktop_views\", \"View Count\": 5347709361.0}, {\"Year\": \"2016\", \"Month\": \"03\", \"date\": \"2016-03-01T00:00:00\", \"View Type\": \"pagecount_desktop_views\", \"View Count\": 5407676056.0}, {\"Year\": \"2016\", \"Month\": \"04\", \"date\": \"2016-04-01T00:00:00\", \"View Type\": \"pagecount_desktop_views\", \"View Count\": 5572235399.0}, {\"Year\": \"2016\", \"Month\": \"05\", \"date\": \"2016-05-01T00:00:00\", \"View Type\": \"pagecount_desktop_views\", \"View Count\": 5330532334.0}, {\"Year\": \"2016\", \"Month\": \"06\", \"date\": \"2016-06-01T00:00:00\", \"View Type\": \"pagecount_desktop_views\", \"View Count\": 4975092447.0}, {\"Year\": \"2016\", \"Month\": \"07\", \"date\": \"2016-07-01T00:00:00\", \"View Type\": \"pagecount_desktop_views\", \"View Count\": 5363966439.0}, {\"Year\": \"2014\", \"Month\": \"10\", \"date\": \"2014-10-01T00:00:00\", \"View Type\": \"pagecount_mobile_views\", \"View Count\": 3091546685.0}, {\"Year\": \"2014\", \"Month\": \"11\", \"date\": \"2014-11-01T00:00:00\", \"View Type\": \"pagecount_mobile_views\", \"View Count\": 3027489668.0}, {\"Year\": \"2014\", \"Month\": \"12\", \"date\": \"2014-12-01T00:00:00\", \"View Type\": \"pagecount_mobile_views\", \"View Count\": 3278950021.0}, {\"Year\": \"2015\", \"Month\": \"01\", \"date\": \"2015-01-01T00:00:00\", \"View Type\": \"pagecount_mobile_views\", \"View Count\": 3485302091.0}, {\"Year\": \"2015\", \"Month\": \"02\", \"date\": \"2015-02-01T00:00:00\", \"View Type\": \"pagecount_mobile_views\", \"View Count\": 3091534479.0}, {\"Year\": \"2015\", \"Month\": \"03\", \"date\": \"2015-03-01T00:00:00\", \"View Type\": \"pagecount_mobile_views\", \"View Count\": 3330832588.0}, {\"Year\": \"2015\", \"Month\": \"04\", \"date\": \"2015-04-01T00:00:00\", \"View Type\": \"pagecount_mobile_views\", \"View Count\": 3222089917.0}, {\"Year\": \"2015\", \"Month\": \"05\", \"date\": \"2015-05-01T00:00:00\", \"View Type\": \"pagecount_mobile_views\", \"View Count\": 3334069483.0}, {\"Year\": \"2015\", \"Month\": \"06\", \"date\": \"2015-06-01T00:00:00\", \"View Type\": \"pagecount_mobile_views\", \"View Count\": 3038162463.0}, {\"Year\": \"2015\", \"Month\": \"07\", \"date\": \"2015-07-01T00:00:00\", \"View Type\": \"pagecount_mobile_views\", \"View Count\": 3254472695.0}, {\"Year\": \"2015\", \"Month\": \"08\", \"date\": \"2015-08-01T00:00:00\", \"View Type\": \"pagecount_mobile_views\", \"View Count\": 3268487582.0}, {\"Year\": \"2015\", \"Month\": \"09\", \"date\": \"2015-09-01T00:00:00\", \"View Type\": \"pagecount_mobile_views\", \"View Count\": 3172429827.0}, {\"Year\": \"2015\", \"Month\": \"10\", \"date\": \"2015-10-01T00:00:00\", \"View Type\": \"pagecount_mobile_views\", \"View Count\": 3246082505.0}, {\"Year\": \"2015\", \"Month\": \"11\", \"date\": \"2015-11-01T00:00:00\", \"View Type\": \"pagecount_mobile_views\", \"View Count\": 3218234512.0}, {\"Year\": \"2015\", \"Month\": \"12\", \"date\": \"2015-12-01T00:00:00\", \"View Type\": \"pagecount_mobile_views\", \"View Count\": 3387411863.0}, {\"Year\": \"2016\", \"Month\": \"01\", \"date\": \"2016-01-01T00:00:00\", \"View Type\": \"pagecount_mobile_views\", \"View Count\": 3739628742.0}, {\"Year\": \"2016\", \"Month\": \"02\", \"date\": \"2016-02-01T00:00:00\", \"View Type\": \"pagecount_mobile_views\", \"View Count\": 3333231392.0}, {\"Year\": \"2016\", \"Month\": \"03\", \"date\": \"2016-03-01T00:00:00\", \"View Type\": \"pagecount_mobile_views\", \"View Count\": 3419853636.0}, {\"Year\": \"2016\", \"Month\": \"04\", \"date\": \"2016-04-01T00:00:00\", \"View Type\": \"pagecount_mobile_views\", \"View Count\": 3301385124.0}, {\"Year\": \"2016\", \"Month\": \"05\", \"date\": \"2016-05-01T00:00:00\", \"View Type\": \"pagecount_mobile_views\", \"View Count\": 3418435805.0}, {\"Year\": \"2016\", \"Month\": \"06\", \"date\": \"2016-06-01T00:00:00\", \"View Type\": \"pagecount_mobile_views\", \"View Count\": 3372618063.0}, {\"Year\": \"2016\", \"Month\": \"07\", \"date\": \"2016-07-01T00:00:00\", \"View Type\": \"pagecount_mobile_views\", \"View Count\": 3500661121.0}, {\"Year\": \"2015\", \"Month\": \"07\", \"date\": \"2015-07-01T00:00:00\", \"View Type\": \"pageview_all_views\", \"View Count\": 7665421980.0}, {\"Year\": \"2015\", \"Month\": \"08\", \"date\": \"2015-08-01T00:00:00\", \"View Type\": \"pageview_all_views\", \"View Count\": 7634815221.0}, {\"Year\": \"2015\", \"Month\": \"09\", \"date\": \"2015-09-01T00:00:00\", \"View Type\": \"pageview_all_views\", \"View Count\": 7655695037.0}, {\"Year\": \"2015\", \"Month\": \"10\", \"date\": \"2015-10-01T00:00:00\", \"View Type\": \"pageview_all_views\", \"View Count\": 7746031887.0}, {\"Year\": \"2015\", \"Month\": \"11\", \"date\": \"2015-11-01T00:00:00\", \"View Type\": \"pageview_all_views\", \"View Count\": 7524321290.0}, {\"Year\": \"2015\", \"Month\": \"12\", \"date\": \"2015-12-01T00:00:00\", \"View Type\": \"pageview_all_views\", \"View Count\": 7476287344.0}, {\"Year\": \"2016\", \"Month\": \"01\", \"date\": \"2016-01-01T00:00:00\", \"View Type\": \"pageview_all_views\", \"View Count\": 8154016303.0}, {\"Year\": \"2016\", \"Month\": \"02\", \"date\": \"2016-02-01T00:00:00\", \"View Type\": \"pageview_all_views\", \"View Count\": 7585859457.0}, {\"Year\": \"2016\", \"Month\": \"03\", \"date\": \"2016-03-01T00:00:00\", \"View Type\": \"pageview_all_views\", \"View Count\": 7673274617.0}, {\"Year\": \"2016\", \"Month\": \"04\", \"date\": \"2016-04-01T00:00:00\", \"View Type\": \"pageview_all_views\", \"View Count\": 7408147859.0}, {\"Year\": \"2016\", \"Month\": \"05\", \"date\": \"2016-05-01T00:00:00\", \"View Type\": \"pageview_all_views\", \"View Count\": 7586811330.0}, {\"Year\": \"2016\", \"Month\": \"06\", \"date\": \"2016-06-01T00:00:00\", \"View Type\": \"pageview_all_views\", \"View Count\": 7243630656.0}, {\"Year\": \"2016\", \"Month\": \"07\", \"date\": \"2016-07-01T00:00:00\", \"View Type\": \"pageview_all_views\", \"View Count\": 7834439589.0}, {\"Year\": \"2016\", \"Month\": \"08\", \"date\": \"2016-08-01T00:00:00\", \"View Type\": \"pageview_all_views\", \"View Count\": 8210865519.0}, {\"Year\": \"2016\", \"Month\": \"09\", \"date\": \"2016-09-01T00:00:00\", \"View Type\": \"pageview_all_views\", \"View Count\": 7528292279.0}, {\"Year\": \"2016\", \"Month\": \"10\", \"date\": \"2016-10-01T00:00:00\", \"View Type\": \"pageview_all_views\", \"View Count\": 7871021581.0}, {\"Year\": \"2016\", \"Month\": \"11\", \"date\": \"2016-11-01T00:00:00\", \"View Type\": \"pageview_all_views\", \"View Count\": 7983113161.0}, {\"Year\": \"2016\", \"Month\": \"12\", \"date\": \"2016-12-01T00:00:00\", \"View Type\": \"pageview_all_views\", \"View Count\": 7986152433.0}, {\"Year\": \"2017\", \"Month\": \"01\", \"date\": \"2017-01-01T00:00:00\", \"View Type\": \"pageview_all_views\", \"View Count\": 8753941940.0}, {\"Year\": \"2017\", \"Month\": \"02\", \"date\": \"2017-02-01T00:00:00\", \"View Type\": \"pageview_all_views\", \"View Count\": 7738463562.0}, {\"Year\": \"2017\", \"Month\": \"03\", \"date\": \"2017-03-01T00:00:00\", \"View Type\": \"pageview_all_views\", \"View Count\": 8223465891.0}, {\"Year\": \"2017\", \"Month\": \"04\", \"date\": \"2017-04-01T00:00:00\", \"View Type\": \"pageview_all_views\", \"View Count\": 7591080111.0}, {\"Year\": \"2017\", \"Month\": \"05\", \"date\": \"2017-05-01T00:00:00\", \"View Type\": \"pageview_all_views\", \"View Count\": 7874558299.0}, {\"Year\": \"2017\", \"Month\": \"06\", \"date\": \"2017-06-01T00:00:00\", \"View Type\": \"pageview_all_views\", \"View Count\": 7123934190.0}, {\"Year\": \"2017\", \"Month\": \"07\", \"date\": \"2017-07-01T00:00:00\", \"View Type\": \"pageview_all_views\", \"View Count\": 7290503797.0}, {\"Year\": \"2017\", \"Month\": \"08\", \"date\": \"2017-08-01T00:00:00\", \"View Type\": \"pageview_all_views\", \"View Count\": 7196978615.0}, {\"Year\": \"2017\", \"Month\": \"09\", \"date\": \"2017-09-01T00:00:00\", \"View Type\": \"pageview_all_views\", \"View Count\": 7079052261.0}, {\"Year\": \"2017\", \"Month\": \"10\", \"date\": \"2017-10-01T00:00:00\", \"View Type\": \"pageview_all_views\", \"View Count\": 7580772181.0}, {\"Year\": \"2017\", \"Month\": \"11\", \"date\": \"2017-11-01T00:00:00\", \"View Type\": \"pageview_all_views\", \"View Count\": 7486072984.0}, {\"Year\": \"2017\", \"Month\": \"12\", \"date\": \"2017-12-01T00:00:00\", \"View Type\": \"pageview_all_views\", \"View Count\": 7470527400.0}, {\"Year\": \"2018\", \"Month\": \"01\", \"date\": \"2018-01-01T00:00:00\", \"View Type\": \"pageview_all_views\", \"View Count\": 8371116060.0}, {\"Year\": \"2018\", \"Month\": \"02\", \"date\": \"2018-02-01T00:00:00\", \"View Type\": \"pageview_all_views\", \"View Count\": 7360334422.0}, {\"Year\": \"2018\", \"Month\": \"03\", \"date\": \"2018-03-01T00:00:00\", \"View Type\": \"pageview_all_views\", \"View Count\": 8015146182.0}, {\"Year\": \"2018\", \"Month\": \"04\", \"date\": \"2018-04-01T00:00:00\", \"View Type\": \"pageview_all_views\", \"View Count\": 7690353530.0}, {\"Year\": \"2018\", \"Month\": \"05\", \"date\": \"2018-05-01T00:00:00\", \"View Type\": \"pageview_all_views\", \"View Count\": 7764840918.0}, {\"Year\": \"2018\", \"Month\": \"06\", \"date\": \"2018-06-01T00:00:00\", \"View Type\": \"pageview_all_views\", \"View Count\": 7256416175.0}, {\"Year\": \"2018\", \"Month\": \"07\", \"date\": \"2018-07-01T00:00:00\", \"View Type\": \"pageview_all_views\", \"View Count\": 7723165341.0}, {\"Year\": \"2018\", \"Month\": \"08\", \"date\": \"2018-08-01T00:00:00\", \"View Type\": \"pageview_all_views\", \"View Count\": 7586492950.0}, {\"Year\": \"2018\", \"Month\": \"09\", \"date\": \"2018-09-01T00:00:00\", \"View Type\": \"pageview_all_views\", \"View Count\": 7410952475.0}, {\"Year\": \"2018\", \"Month\": \"10\", \"date\": \"2018-10-01T00:00:00\", \"View Type\": \"pageview_all_views\", \"View Count\": 7714396331.0}, {\"Year\": \"2018\", \"Month\": \"11\", \"date\": \"2018-11-01T00:00:00\", \"View Type\": \"pageview_all_views\", \"View Count\": 7481996602.0}, {\"Year\": \"2018\", \"Month\": \"12\", \"date\": \"2018-12-01T00:00:00\", \"View Type\": \"pageview_all_views\", \"View Count\": 7668741075.0}, {\"Year\": \"2019\", \"Month\": \"01\", \"date\": \"2019-01-01T00:00:00\", \"View Type\": \"pageview_all_views\", \"View Count\": 8213615007.0}, {\"Year\": \"2019\", \"Month\": \"02\", \"date\": \"2019-02-01T00:00:00\", \"View Type\": \"pageview_all_views\", \"View Count\": 7263031930.0}, {\"Year\": \"2019\", \"Month\": \"03\", \"date\": \"2019-03-01T00:00:00\", \"View Type\": \"pageview_all_views\", \"View Count\": 7846676922.0}, {\"Year\": \"2019\", \"Month\": \"04\", \"date\": \"2019-04-01T00:00:00\", \"View Type\": \"pageview_all_views\", \"View Count\": 7591898410.0}, {\"Year\": \"2019\", \"Month\": \"05\", \"date\": \"2019-05-01T00:00:00\", \"View Type\": \"pageview_all_views\", \"View Count\": 7778725447.0}, {\"Year\": \"2019\", \"Month\": \"06\", \"date\": \"2019-06-01T00:00:00\", \"View Type\": \"pageview_all_views\", \"View Count\": 7272603509.0}, {\"Year\": \"2019\", \"Month\": \"07\", \"date\": \"2019-07-01T00:00:00\", \"View Type\": \"pageview_all_views\", \"View Count\": 7697923994.0}, {\"Year\": \"2019\", \"Month\": \"08\", \"date\": \"2019-08-01T00:00:00\", \"View Type\": \"pageview_all_views\", \"View Count\": 7511637741.0}, {\"Year\": \"2019\", \"Month\": \"09\", \"date\": \"2019-09-01T00:00:00\", \"View Type\": \"pageview_all_views\", \"View Count\": 7499320841.0}, {\"Year\": \"2019\", \"Month\": \"10\", \"date\": \"2019-10-01T00:00:00\", \"View Type\": \"pageview_all_views\", \"View Count\": 8094995348.0}, {\"Year\": \"2019\", \"Month\": \"11\", \"date\": \"2019-11-01T00:00:00\", \"View Type\": \"pageview_all_views\", \"View Count\": 7723707106.0}, {\"Year\": \"2019\", \"Month\": \"12\", \"date\": \"2019-12-01T00:00:00\", \"View Type\": \"pageview_all_views\", \"View Count\": 7651321286.0}, {\"Year\": \"2020\", \"Month\": \"01\", \"date\": \"2020-01-01T00:00:00\", \"View Type\": \"pageview_all_views\", \"View Count\": 8272629865.0}, {\"Year\": \"2020\", \"Month\": \"02\", \"date\": \"2020-02-01T00:00:00\", \"View Type\": \"pageview_all_views\", \"View Count\": 7595321571.0}, {\"Year\": \"2020\", \"Month\": \"03\", \"date\": \"2020-03-01T00:00:00\", \"View Type\": \"pageview_all_views\", \"View Count\": 8098768829.0}, {\"Year\": \"2020\", \"Month\": \"04\", \"date\": \"2020-04-01T00:00:00\", \"View Type\": \"pageview_all_views\", \"View Count\": 9304114554.0}, {\"Year\": \"2020\", \"Month\": \"05\", \"date\": \"2020-05-01T00:00:00\", \"View Type\": \"pageview_all_views\", \"View Count\": 8309793710.0}, {\"Year\": \"2020\", \"Month\": \"06\", \"date\": \"2020-06-01T00:00:00\", \"View Type\": \"pageview_all_views\", \"View Count\": 7295303813.0}, {\"Year\": \"2020\", \"Month\": \"07\", \"date\": \"2020-07-01T00:00:00\", \"View Type\": \"pageview_all_views\", \"View Count\": 7448650597.0}, {\"Year\": \"2020\", \"Month\": \"08\", \"date\": \"2020-08-01T00:00:00\", \"View Type\": \"pageview_all_views\", \"View Count\": 7416366900.0}, {\"Year\": \"2020\", \"Month\": \"09\", \"date\": \"2020-09-01T00:00:00\", \"View Type\": \"pageview_all_views\", \"View Count\": 7154034280.0}, {\"Year\": \"2020\", \"Month\": \"10\", \"date\": \"2020-10-01T00:00:00\", \"View Type\": \"pageview_all_views\", \"View Count\": 7778298858.0}, {\"Year\": \"2020\", \"Month\": \"11\", \"date\": \"2020-11-01T00:00:00\", \"View Type\": \"pageview_all_views\", \"View Count\": 7967683334.0}, {\"Year\": \"2020\", \"Month\": \"12\", \"date\": \"2020-12-01T00:00:00\", \"View Type\": \"pageview_all_views\", \"View Count\": 7672099918.0}, {\"Year\": \"2021\", \"Month\": \"01\", \"date\": \"2021-01-01T00:00:00\", \"View Type\": \"pageview_all_views\", \"View Count\": 8201654938.0}, {\"Year\": \"2021\", \"Month\": \"02\", \"date\": \"2021-02-01T00:00:00\", \"View Type\": \"pageview_all_views\", \"View Count\": 7298754690.0}, {\"Year\": \"2021\", \"Month\": \"03\", \"date\": \"2021-03-01T00:00:00\", \"View Type\": \"pageview_all_views\", \"View Count\": 8075703368.0}, {\"Year\": \"2021\", \"Month\": \"04\", \"date\": \"2021-04-01T00:00:00\", \"View Type\": \"pageview_all_views\", \"View Count\": 7641809575.0}, {\"Year\": \"2021\", \"Month\": \"05\", \"date\": \"2021-05-01T00:00:00\", \"View Type\": \"pageview_all_views\", \"View Count\": 7800995735.0}, {\"Year\": \"2021\", \"Month\": \"06\", \"date\": \"2021-06-01T00:00:00\", \"View Type\": \"pageview_all_views\", \"View Count\": 7090481783.0}, {\"Year\": \"2021\", \"Month\": \"07\", \"date\": \"2021-07-01T00:00:00\", \"View Type\": \"pageview_all_views\", \"View Count\": 7544493789.0}, {\"Year\": \"2021\", \"Month\": \"08\", \"date\": \"2021-08-01T00:00:00\", \"View Type\": \"pageview_all_views\", \"View Count\": 7495607934.0}, {\"Year\": \"2015\", \"Month\": \"07\", \"date\": \"2015-07-01T00:00:00\", \"View Type\": \"pageview_desktop_views\", \"View Count\": 4376666686.0}, {\"Year\": \"2015\", \"Month\": \"08\", \"date\": \"2015-08-01T00:00:00\", \"View Type\": \"pageview_desktop_views\", \"View Count\": 4332482183.0}, {\"Year\": \"2015\", \"Month\": \"09\", \"date\": \"2015-09-01T00:00:00\", \"View Type\": \"pageview_desktop_views\", \"View Count\": 4485491704.0}, {\"Year\": \"2015\", \"Month\": \"10\", \"date\": \"2015-10-01T00:00:00\", \"View Type\": \"pageview_desktop_views\", \"View Count\": 4477532755.0}, {\"Year\": \"2015\", \"Month\": \"11\", \"date\": \"2015-11-01T00:00:00\", \"View Type\": \"pageview_desktop_views\", \"View Count\": 4287720220.0}, {\"Year\": \"2015\", \"Month\": \"12\", \"date\": \"2015-12-01T00:00:00\", \"View Type\": \"pageview_desktop_views\", \"View Count\": 4100012037.0}, {\"Year\": \"2016\", \"Month\": \"01\", \"date\": \"2016-01-01T00:00:00\", \"View Type\": \"pageview_desktop_views\", \"View Count\": 4436179457.0}, {\"Year\": \"2016\", \"Month\": \"02\", \"date\": \"2016-02-01T00:00:00\", \"View Type\": \"pageview_desktop_views\", \"View Count\": 4250997185.0}, {\"Year\": \"2016\", \"Month\": \"03\", \"date\": \"2016-03-01T00:00:00\", \"View Type\": \"pageview_desktop_views\", \"View Count\": 4286590426.0}, {\"Year\": \"2016\", \"Month\": \"04\", \"date\": \"2016-04-01T00:00:00\", \"View Type\": \"pageview_desktop_views\", \"View Count\": 4149383857.0}, {\"Year\": \"2016\", \"Month\": \"05\", \"date\": \"2016-05-01T00:00:00\", \"View Type\": \"pageview_desktop_views\", \"View Count\": 4191778094.0}, {\"Year\": \"2016\", \"Month\": \"06\", \"date\": \"2016-06-01T00:00:00\", \"View Type\": \"pageview_desktop_views\", \"View Count\": 3888839711.0}, {\"Year\": \"2016\", \"Month\": \"07\", \"date\": \"2016-07-01T00:00:00\", \"View Type\": \"pageview_desktop_views\", \"View Count\": 4337865827.0}, {\"Year\": \"2016\", \"Month\": \"08\", \"date\": \"2016-08-01T00:00:00\", \"View Type\": \"pageview_desktop_views\", \"View Count\": 4695046216.0}, {\"Year\": \"2016\", \"Month\": \"09\", \"date\": \"2016-09-01T00:00:00\", \"View Type\": \"pageview_desktop_views\", \"View Count\": 4135006498.0}, {\"Year\": \"2016\", \"Month\": \"10\", \"date\": \"2016-10-01T00:00:00\", \"View Type\": \"pageview_desktop_views\", \"View Count\": 4361737690.0}, {\"Year\": \"2016\", \"Month\": \"11\", \"date\": \"2016-11-01T00:00:00\", \"View Type\": \"pageview_desktop_views\", \"View Count\": 4392068236.0}, {\"Year\": \"2016\", \"Month\": \"12\", \"date\": \"2016-12-01T00:00:00\", \"View Type\": \"pageview_desktop_views\", \"View Count\": 4209608578.0}, {\"Year\": \"2017\", \"Month\": \"01\", \"date\": \"2017-01-01T00:00:00\", \"View Type\": \"pageview_desktop_views\", \"View Count\": 4521980398.0}, {\"Year\": \"2017\", \"Month\": \"02\", \"date\": \"2017-02-01T00:00:00\", \"View Type\": \"pageview_desktop_views\", \"View Count\": 4026702163.0}, {\"Year\": \"2017\", \"Month\": \"03\", \"date\": \"2017-03-01T00:00:00\", \"View Type\": \"pageview_desktop_views\", \"View Count\": 4319971902.0}, {\"Year\": \"2017\", \"Month\": \"04\", \"date\": \"2017-04-01T00:00:00\", \"View Type\": \"pageview_desktop_views\", \"View Count\": 3951456992.0}, {\"Year\": \"2017\", \"Month\": \"05\", \"date\": \"2017-05-01T00:00:00\", \"View Type\": \"pageview_desktop_views\", \"View Count\": 4187870579.0}, {\"Year\": \"2017\", \"Month\": \"06\", \"date\": \"2017-06-01T00:00:00\", \"View Type\": \"pageview_desktop_views\", \"View Count\": 3604550997.0}, {\"Year\": \"2017\", \"Month\": \"07\", \"date\": \"2017-07-01T00:00:00\", \"View Type\": \"pageview_desktop_views\", \"View Count\": 3565444544.0}, {\"Year\": \"2017\", \"Month\": \"08\", \"date\": \"2017-08-01T00:00:00\", \"View Type\": \"pageview_desktop_views\", \"View Count\": 3575572313.0}, {\"Year\": \"2017\", \"Month\": \"09\", \"date\": \"2017-09-01T00:00:00\", \"View Type\": \"pageview_desktop_views\", \"View Count\": 3547447892.0}, {\"Year\": \"2017\", \"Month\": \"10\", \"date\": \"2017-10-01T00:00:00\", \"View Type\": \"pageview_desktop_views\", \"View Count\": 3907651639.0}, {\"Year\": \"2017\", \"Month\": \"11\", \"date\": \"2017-11-01T00:00:00\", \"View Type\": \"pageview_desktop_views\", \"View Count\": 3816060923.0}, {\"Year\": \"2017\", \"Month\": \"12\", \"date\": \"2017-12-01T00:00:00\", \"View Type\": \"pageview_desktop_views\", \"View Count\": 3640391096.0}, {\"Year\": \"2018\", \"Month\": \"01\", \"date\": \"2018-01-01T00:00:00\", \"View Type\": \"pageview_desktop_views\", \"View Count\": 4111833689.0}, {\"Year\": \"2018\", \"Month\": \"02\", \"date\": \"2018-02-01T00:00:00\", \"View Type\": \"pageview_desktop_views\", \"View Count\": 3634653694.0}, {\"Year\": \"2018\", \"Month\": \"03\", \"date\": \"2018-03-01T00:00:00\", \"View Type\": \"pageview_desktop_views\", \"View Count\": 3965271925.0}, {\"Year\": \"2018\", \"Month\": \"04\", \"date\": \"2018-04-01T00:00:00\", \"View Type\": \"pageview_desktop_views\", \"View Count\": 3762955419.0}, {\"Year\": \"2018\", \"Month\": \"05\", \"date\": \"2018-05-01T00:00:00\", \"View Type\": \"pageview_desktop_views\", \"View Count\": 3675652396.0}, {\"Year\": \"2018\", \"Month\": \"06\", \"date\": \"2018-06-01T00:00:00\", \"View Type\": \"pageview_desktop_views\", \"View Count\": 3278649434.0}, {\"Year\": \"2018\", \"Month\": \"07\", \"date\": \"2018-07-01T00:00:00\", \"View Type\": \"pageview_desktop_views\", \"View Count\": 3457051589.0}, {\"Year\": \"2018\", \"Month\": \"08\", \"date\": \"2018-08-01T00:00:00\", \"View Type\": \"pageview_desktop_views\", \"View Count\": 3399130789.0}, {\"Year\": \"2018\", \"Month\": \"09\", \"date\": \"2018-09-01T00:00:00\", \"View Type\": \"pageview_desktop_views\", \"View Count\": 3433832231.0}, {\"Year\": \"2018\", \"Month\": \"10\", \"date\": \"2018-10-01T00:00:00\", \"View Type\": \"pageview_desktop_views\", \"View Count\": 3640606578.0}, {\"Year\": \"2018\", \"Month\": \"11\", \"date\": \"2018-11-01T00:00:00\", \"View Type\": \"pageview_desktop_views\", \"View Count\": 3448616562.0}, {\"Year\": \"2018\", \"Month\": \"12\", \"date\": \"2018-12-01T00:00:00\", \"View Type\": \"pageview_desktop_views\", \"View Count\": 3379686909.0}, {\"Year\": \"2019\", \"Month\": \"01\", \"date\": \"2019-01-01T00:00:00\", \"View Type\": \"pageview_desktop_views\", \"View Count\": 3616017826.0}, {\"Year\": \"2019\", \"Month\": \"02\", \"date\": \"2019-02-01T00:00:00\", \"View Type\": \"pageview_desktop_views\", \"View Count\": 3244921935.0}, {\"Year\": \"2019\", \"Month\": \"03\", \"date\": \"2019-03-01T00:00:00\", \"View Type\": \"pageview_desktop_views\", \"View Count\": 3439386600.0}, {\"Year\": \"2019\", \"Month\": \"04\", \"date\": \"2019-04-01T00:00:00\", \"View Type\": \"pageview_desktop_views\", \"View Count\": 3330234244.0}, {\"Year\": \"2019\", \"Month\": \"05\", \"date\": \"2019-05-01T00:00:00\", \"View Type\": \"pageview_desktop_views\", \"View Count\": 3364959217.0}, {\"Year\": \"2019\", \"Month\": \"06\", \"date\": \"2019-06-01T00:00:00\", \"View Type\": \"pageview_desktop_views\", \"View Count\": 2986618238.0}, {\"Year\": \"2019\", \"Month\": \"07\", \"date\": \"2019-07-01T00:00:00\", \"View Type\": \"pageview_desktop_views\", \"View Count\": 3140657554.0}, {\"Year\": \"2019\", \"Month\": \"08\", \"date\": \"2019-08-01T00:00:00\", \"View Type\": \"pageview_desktop_views\", \"View Count\": 2979881198.0}, {\"Year\": \"2019\", \"Month\": \"09\", \"date\": \"2019-09-01T00:00:00\", \"View Type\": \"pageview_desktop_views\", \"View Count\": 3061362632.0}, {\"Year\": \"2019\", \"Month\": \"10\", \"date\": \"2019-10-01T00:00:00\", \"View Type\": \"pageview_desktop_views\", \"View Count\": 3588403486.0}, {\"Year\": \"2019\", \"Month\": \"11\", \"date\": \"2019-11-01T00:00:00\", \"View Type\": \"pageview_desktop_views\", \"View Count\": 3252465442.0}, {\"Year\": \"2019\", \"Month\": \"12\", \"date\": \"2019-12-01T00:00:00\", \"View Type\": \"pageview_desktop_views\", \"View Count\": 3097051994.0}, {\"Year\": \"2020\", \"Month\": \"01\", \"date\": \"2020-01-01T00:00:00\", \"View Type\": \"pageview_desktop_views\", \"View Count\": 3440480235.0}, {\"Year\": \"2020\", \"Month\": \"02\", \"date\": \"2020-02-01T00:00:00\", \"View Type\": \"pageview_desktop_views\", \"View Count\": 3176520359.0}, {\"Year\": \"2020\", \"Month\": \"03\", \"date\": \"2020-03-01T00:00:00\", \"View Type\": \"pageview_desktop_views\", \"View Count\": 3412498274.0}, {\"Year\": \"2020\", \"Month\": \"04\", \"date\": \"2020-04-01T00:00:00\", \"View Type\": \"pageview_desktop_views\", \"View Count\": 3798372613.0}, {\"Year\": \"2020\", \"Month\": \"05\", \"date\": \"2020-05-01T00:00:00\", \"View Type\": \"pageview_desktop_views\", \"View Count\": 3078093615.0}, {\"Year\": \"2020\", \"Month\": \"06\", \"date\": \"2020-06-01T00:00:00\", \"View Type\": \"pageview_desktop_views\", \"View Count\": 2721328557.0}, {\"Year\": \"2020\", \"Month\": \"07\", \"date\": \"2020-07-01T00:00:00\", \"View Type\": \"pageview_desktop_views\", \"View Count\": 2638936132.0}, {\"Year\": \"2020\", \"Month\": \"08\", \"date\": \"2020-08-01T00:00:00\", \"View Type\": \"pageview_desktop_views\", \"View Count\": 2613058239.0}, {\"Year\": \"2020\", \"Month\": \"09\", \"date\": \"2020-09-01T00:00:00\", \"View Type\": \"pageview_desktop_views\", \"View Count\": 2661783500.0}, {\"Year\": \"2020\", \"Month\": \"10\", \"date\": \"2020-10-01T00:00:00\", \"View Type\": \"pageview_desktop_views\", \"View Count\": 3041724497.0}, {\"Year\": \"2020\", \"Month\": \"11\", \"date\": \"2020-11-01T00:00:00\", \"View Type\": \"pageview_desktop_views\", \"View Count\": 3095290471.0}, {\"Year\": \"2020\", \"Month\": \"12\", \"date\": \"2020-12-01T00:00:00\", \"View Type\": \"pageview_desktop_views\", \"View Count\": 2868491144.0}, {\"Year\": \"2021\", \"Month\": \"01\", \"date\": \"2021-01-01T00:00:00\", \"View Type\": \"pageview_desktop_views\", \"View Count\": 2997179790.0}, {\"Year\": \"2021\", \"Month\": \"02\", \"date\": \"2021-02-01T00:00:00\", \"View Type\": \"pageview_desktop_views\", \"View Count\": 2761616525.0}, {\"Year\": \"2021\", \"Month\": \"03\", \"date\": \"2021-03-01T00:00:00\", \"View Type\": \"pageview_desktop_views\", \"View Count\": 3141441360.0}, {\"Year\": \"2021\", \"Month\": \"04\", \"date\": \"2021-04-01T00:00:00\", \"View Type\": \"pageview_desktop_views\", \"View Count\": 2882714492.0}, {\"Year\": \"2021\", \"Month\": \"05\", \"date\": \"2021-05-01T00:00:00\", \"View Type\": \"pageview_desktop_views\", \"View Count\": 2824416177.0}, {\"Year\": \"2021\", \"Month\": \"06\", \"date\": \"2021-06-01T00:00:00\", \"View Type\": \"pageview_desktop_views\", \"View Count\": 2505971366.0}, {\"Year\": \"2021\", \"Month\": \"07\", \"date\": \"2021-07-01T00:00:00\", \"View Type\": \"pageview_desktop_views\", \"View Count\": 2765584368.0}, {\"Year\": \"2021\", \"Month\": \"08\", \"date\": \"2021-08-01T00:00:00\", \"View Type\": \"pageview_desktop_views\", \"View Count\": 2763413934.0}, {\"Year\": \"2015\", \"Month\": \"07\", \"date\": \"2015-07-01T00:00:00\", \"View Type\": \"pageview_mobile_views\", \"View Count\": 3288755294.0}, {\"Year\": \"2015\", \"Month\": \"08\", \"date\": \"2015-08-01T00:00:00\", \"View Type\": \"pageview_mobile_views\", \"View Count\": 3302333038.0}, {\"Year\": \"2015\", \"Month\": \"09\", \"date\": \"2015-09-01T00:00:00\", \"View Type\": \"pageview_mobile_views\", \"View Count\": 3170203333.0}, {\"Year\": \"2015\", \"Month\": \"10\", \"date\": \"2015-10-01T00:00:00\", \"View Type\": \"pageview_mobile_views\", \"View Count\": 3268499132.0}, {\"Year\": \"2015\", \"Month\": \"11\", \"date\": \"2015-11-01T00:00:00\", \"View Type\": \"pageview_mobile_views\", \"View Count\": 3236601070.0}, {\"Year\": \"2015\", \"Month\": \"12\", \"date\": \"2015-12-01T00:00:00\", \"View Type\": \"pageview_mobile_views\", \"View Count\": 3376275307.0}, {\"Year\": \"2016\", \"Month\": \"01\", \"date\": \"2016-01-01T00:00:00\", \"View Type\": \"pageview_mobile_views\", \"View Count\": 3717836846.0}, {\"Year\": \"2016\", \"Month\": \"02\", \"date\": \"2016-02-01T00:00:00\", \"View Type\": \"pageview_mobile_views\", \"View Count\": 3334862272.0}, {\"Year\": \"2016\", \"Month\": \"03\", \"date\": \"2016-03-01T00:00:00\", \"View Type\": \"pageview_mobile_views\", \"View Count\": 3386684191.0}, {\"Year\": \"2016\", \"Month\": \"04\", \"date\": \"2016-04-01T00:00:00\", \"View Type\": \"pageview_mobile_views\", \"View Count\": 3258764002.0}, {\"Year\": \"2016\", \"Month\": \"05\", \"date\": \"2016-05-01T00:00:00\", \"View Type\": \"pageview_mobile_views\", \"View Count\": 3395033236.0}, {\"Year\": \"2016\", \"Month\": \"06\", \"date\": \"2016-06-01T00:00:00\", \"View Type\": \"pageview_mobile_views\", \"View Count\": 3354790945.0}, {\"Year\": \"2016\", \"Month\": \"07\", \"date\": \"2016-07-01T00:00:00\", \"View Type\": \"pageview_mobile_views\", \"View Count\": 3496573762.0}, {\"Year\": \"2016\", \"Month\": \"08\", \"date\": \"2016-08-01T00:00:00\", \"View Type\": \"pageview_mobile_views\", \"View Count\": 3515819303.0}, {\"Year\": \"2016\", \"Month\": \"09\", \"date\": \"2016-09-01T00:00:00\", \"View Type\": \"pageview_mobile_views\", \"View Count\": 3393285781.0}, {\"Year\": \"2016\", \"Month\": \"10\", \"date\": \"2016-10-01T00:00:00\", \"View Type\": \"pageview_mobile_views\", \"View Count\": 3509283891.0}, {\"Year\": \"2016\", \"Month\": \"11\", \"date\": \"2016-11-01T00:00:00\", \"View Type\": \"pageview_mobile_views\", \"View Count\": 3591044925.0}, {\"Year\": \"2016\", \"Month\": \"12\", \"date\": \"2016-12-01T00:00:00\", \"View Type\": \"pageview_mobile_views\", \"View Count\": 3776543855.0}, {\"Year\": \"2017\", \"Month\": \"01\", \"date\": \"2017-01-01T00:00:00\", \"View Type\": \"pageview_mobile_views\", \"View Count\": 4231961542.0}, {\"Year\": \"2017\", \"Month\": \"02\", \"date\": \"2017-02-01T00:00:00\", \"View Type\": \"pageview_mobile_views\", \"View Count\": 3711761399.0}, {\"Year\": \"2017\", \"Month\": \"03\", \"date\": \"2017-03-01T00:00:00\", \"View Type\": \"pageview_mobile_views\", \"View Count\": 3903493989.0}, {\"Year\": \"2017\", \"Month\": \"04\", \"date\": \"2017-04-01T00:00:00\", \"View Type\": \"pageview_mobile_views\", \"View Count\": 3639623119.0}, {\"Year\": \"2017\", \"Month\": \"05\", \"date\": \"2017-05-01T00:00:00\", \"View Type\": \"pageview_mobile_views\", \"View Count\": 3686687720.0}, {\"Year\": \"2017\", \"Month\": \"06\", \"date\": \"2017-06-01T00:00:00\", \"View Type\": \"pageview_mobile_views\", \"View Count\": 3519383193.0}, {\"Year\": \"2017\", \"Month\": \"07\", \"date\": \"2017-07-01T00:00:00\", \"View Type\": \"pageview_mobile_views\", \"View Count\": 3725059253.0}, {\"Year\": \"2017\", \"Month\": \"08\", \"date\": \"2017-08-01T00:00:00\", \"View Type\": \"pageview_mobile_views\", \"View Count\": 3621406302.0}, {\"Year\": \"2017\", \"Month\": \"09\", \"date\": \"2017-09-01T00:00:00\", \"View Type\": \"pageview_mobile_views\", \"View Count\": 3531604369.0}, {\"Year\": \"2017\", \"Month\": \"10\", \"date\": \"2017-10-01T00:00:00\", \"View Type\": \"pageview_mobile_views\", \"View Count\": 3673120542.0}, {\"Year\": \"2017\", \"Month\": \"11\", \"date\": \"2017-11-01T00:00:00\", \"View Type\": \"pageview_mobile_views\", \"View Count\": 3670012061.0}, {\"Year\": \"2017\", \"Month\": \"12\", \"date\": \"2017-12-01T00:00:00\", \"View Type\": \"pageview_mobile_views\", \"View Count\": 3830136304.0}, {\"Year\": \"2018\", \"Month\": \"01\", \"date\": \"2018-01-01T00:00:00\", \"View Type\": \"pageview_mobile_views\", \"View Count\": 4259282371.0}, {\"Year\": \"2018\", \"Month\": \"02\", \"date\": \"2018-02-01T00:00:00\", \"View Type\": \"pageview_mobile_views\", \"View Count\": 3725680728.0}, {\"Year\": \"2018\", \"Month\": \"03\", \"date\": \"2018-03-01T00:00:00\", \"View Type\": \"pageview_mobile_views\", \"View Count\": 4049874257.0}, {\"Year\": \"2018\", \"Month\": \"04\", \"date\": \"2018-04-01T00:00:00\", \"View Type\": \"pageview_mobile_views\", \"View Count\": 3927398111.0}, {\"Year\": \"2018\", \"Month\": \"05\", \"date\": \"2018-05-01T00:00:00\", \"View Type\": \"pageview_mobile_views\", \"View Count\": 4089188522.0}, {\"Year\": \"2018\", \"Month\": \"06\", \"date\": \"2018-06-01T00:00:00\", \"View Type\": \"pageview_mobile_views\", \"View Count\": 3977766741.0}, {\"Year\": \"2018\", \"Month\": \"07\", \"date\": \"2018-07-01T00:00:00\", \"View Type\": \"pageview_mobile_views\", \"View Count\": 4266113752.0}, {\"Year\": \"2018\", \"Month\": \"08\", \"date\": \"2018-08-01T00:00:00\", \"View Type\": \"pageview_mobile_views\", \"View Count\": 4187362161.0}, {\"Year\": \"2018\", \"Month\": \"09\", \"date\": \"2018-09-01T00:00:00\", \"View Type\": \"pageview_mobile_views\", \"View Count\": 3977120244.0}, {\"Year\": \"2018\", \"Month\": \"10\", \"date\": \"2018-10-01T00:00:00\", \"View Type\": \"pageview_mobile_views\", \"View Count\": 4073789753.0}, {\"Year\": \"2018\", \"Month\": \"11\", \"date\": \"2018-11-01T00:00:00\", \"View Type\": \"pageview_mobile_views\", \"View Count\": 4033380040.0}, {\"Year\": \"2018\", \"Month\": \"12\", \"date\": \"2018-12-01T00:00:00\", \"View Type\": \"pageview_mobile_views\", \"View Count\": 4289054166.0}, {\"Year\": \"2019\", \"Month\": \"01\", \"date\": \"2019-01-01T00:00:00\", \"View Type\": \"pageview_mobile_views\", \"View Count\": 4597597181.0}, {\"Year\": \"2019\", \"Month\": \"02\", \"date\": \"2019-02-01T00:00:00\", \"View Type\": \"pageview_mobile_views\", \"View Count\": 4018109995.0}, {\"Year\": \"2019\", \"Month\": \"03\", \"date\": \"2019-03-01T00:00:00\", \"View Type\": \"pageview_mobile_views\", \"View Count\": 4407290322.0}, {\"Year\": \"2019\", \"Month\": \"04\", \"date\": \"2019-04-01T00:00:00\", \"View Type\": \"pageview_mobile_views\", \"View Count\": 4261664166.0}, {\"Year\": \"2019\", \"Month\": \"05\", \"date\": \"2019-05-01T00:00:00\", \"View Type\": \"pageview_mobile_views\", \"View Count\": 4413766230.0}, {\"Year\": \"2019\", \"Month\": \"06\", \"date\": \"2019-06-01T00:00:00\", \"View Type\": \"pageview_mobile_views\", \"View Count\": 4285985271.0}, {\"Year\": \"2019\", \"Month\": \"07\", \"date\": \"2019-07-01T00:00:00\", \"View Type\": \"pageview_mobile_views\", \"View Count\": 4557266440.0}, {\"Year\": \"2019\", \"Month\": \"08\", \"date\": \"2019-08-01T00:00:00\", \"View Type\": \"pageview_mobile_views\", \"View Count\": 4531756543.0}, {\"Year\": \"2019\", \"Month\": \"09\", \"date\": \"2019-09-01T00:00:00\", \"View Type\": \"pageview_mobile_views\", \"View Count\": 4437958209.0}, {\"Year\": \"2019\", \"Month\": \"10\", \"date\": \"2019-10-01T00:00:00\", \"View Type\": \"pageview_mobile_views\", \"View Count\": 4506591862.0}, {\"Year\": \"2019\", \"Month\": \"11\", \"date\": \"2019-11-01T00:00:00\", \"View Type\": \"pageview_mobile_views\", \"View Count\": 4471241664.0}, {\"Year\": \"2019\", \"Month\": \"12\", \"date\": \"2019-12-01T00:00:00\", \"View Type\": \"pageview_mobile_views\", \"View Count\": 4554269292.0}, {\"Year\": \"2020\", \"Month\": \"01\", \"date\": \"2020-01-01T00:00:00\", \"View Type\": \"pageview_mobile_views\", \"View Count\": 4832149630.0}, {\"Year\": \"2020\", \"Month\": \"02\", \"date\": \"2020-02-01T00:00:00\", \"View Type\": \"pageview_mobile_views\", \"View Count\": 4418801212.0}, {\"Year\": \"2020\", \"Month\": \"03\", \"date\": \"2020-03-01T00:00:00\", \"View Type\": \"pageview_mobile_views\", \"View Count\": 4686270555.0}, {\"Year\": \"2020\", \"Month\": \"04\", \"date\": \"2020-04-01T00:00:00\", \"View Type\": \"pageview_mobile_views\", \"View Count\": 5505741941.0}, {\"Year\": \"2020\", \"Month\": \"05\", \"date\": \"2020-05-01T00:00:00\", \"View Type\": \"pageview_mobile_views\", \"View Count\": 5231700095.0}, {\"Year\": \"2020\", \"Month\": \"06\", \"date\": \"2020-06-01T00:00:00\", \"View Type\": \"pageview_mobile_views\", \"View Count\": 4573975256.0}, {\"Year\": \"2020\", \"Month\": \"07\", \"date\": \"2020-07-01T00:00:00\", \"View Type\": \"pageview_mobile_views\", \"View Count\": 4809714465.0}, {\"Year\": \"2020\", \"Month\": \"08\", \"date\": \"2020-08-01T00:00:00\", \"View Type\": \"pageview_mobile_views\", \"View Count\": 4803308661.0}, {\"Year\": \"2020\", \"Month\": \"09\", \"date\": \"2020-09-01T00:00:00\", \"View Type\": \"pageview_mobile_views\", \"View Count\": 4492250780.0}, {\"Year\": \"2020\", \"Month\": \"10\", \"date\": \"2020-10-01T00:00:00\", \"View Type\": \"pageview_mobile_views\", \"View Count\": 4736574361.0}, {\"Year\": \"2020\", \"Month\": \"11\", \"date\": \"2020-11-01T00:00:00\", \"View Type\": \"pageview_mobile_views\", \"View Count\": 4872392863.0}, {\"Year\": \"2020\", \"Month\": \"12\", \"date\": \"2020-12-01T00:00:00\", \"View Type\": \"pageview_mobile_views\", \"View Count\": 4803608774.0}, {\"Year\": \"2021\", \"Month\": \"01\", \"date\": \"2021-01-01T00:00:00\", \"View Type\": \"pageview_mobile_views\", \"View Count\": 5204475148.0}, {\"Year\": \"2021\", \"Month\": \"02\", \"date\": \"2021-02-01T00:00:00\", \"View Type\": \"pageview_mobile_views\", \"View Count\": 4537138165.0}, {\"Year\": \"2021\", \"Month\": \"03\", \"date\": \"2021-03-01T00:00:00\", \"View Type\": \"pageview_mobile_views\", \"View Count\": 4934262008.0}, {\"Year\": \"2021\", \"Month\": \"04\", \"date\": \"2021-04-01T00:00:00\", \"View Type\": \"pageview_mobile_views\", \"View Count\": 4759095083.0}, {\"Year\": \"2021\", \"Month\": \"05\", \"date\": \"2021-05-01T00:00:00\", \"View Type\": \"pageview_mobile_views\", \"View Count\": 4976579558.0}, {\"Year\": \"2021\", \"Month\": \"06\", \"date\": \"2021-06-01T00:00:00\", \"View Type\": \"pageview_mobile_views\", \"View Count\": 4584510417.0}, {\"Year\": \"2021\", \"Month\": \"07\", \"date\": \"2021-07-01T00:00:00\", \"View Type\": \"pageview_mobile_views\", \"View Count\": 4778909421.0}, {\"Year\": \"2021\", \"Month\": \"08\", \"date\": \"2021-08-01T00:00:00\", \"View Type\": \"pageview_mobile_views\", \"View Count\": 4732194000.0}]}}, {\"mode\": \"vega-lite\"});\n",
       "</script>"
      ],
      "text/plain": [
       "alt.Chart(...)"
      ]
     },
     "execution_count": 26,
     "metadata": {},
     "output_type": "execute_result"
    }
   ],
   "source": [
    "chart"
   ]
  },
  {
   "cell_type": "code",
   "execution_count": 22,
   "metadata": {},
   "outputs": [],
   "source": [
    "save(chart,\"results/wikipedia_traffic.png\")"
   ]
  },
  {
   "cell_type": "code",
   "execution_count": null,
   "metadata": {},
   "outputs": [],
   "source": []
  }
 ],
 "metadata": {
  "kernelspec": {
   "display_name": "Python 3",
   "language": "python",
   "name": "python3"
  },
  "language_info": {
   "codemirror_mode": {
    "name": "ipython",
    "version": 3
   },
   "file_extension": ".py",
   "mimetype": "text/x-python",
   "name": "python",
   "nbconvert_exporter": "python",
   "pygments_lexer": "ipython3",
   "version": "3.8.3"
  }
 },
 "nbformat": 4,
 "nbformat_minor": 4
}
