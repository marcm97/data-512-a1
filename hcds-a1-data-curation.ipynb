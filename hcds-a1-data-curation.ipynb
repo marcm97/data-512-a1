{
 "cells": [
  {
   "cell_type": "markdown",
   "metadata": {},
   "source": [
    "# Goal: \n",
    "Construct, analyze, and publish a dataset of monthly traffic on English Wikipedia from January 1, 2008 through August 30, 2021"
   ]
  },
  {
   "cell_type": "markdown",
   "metadata": {},
   "source": [
    "# Data Acquisition\n",
    "\n",
    "There are 2 sources of Wikipedia Traffic data\n",
    "    - Pagecounts\n",
    "    - Pageviews\n",
    "The main difference between pagecounts and the pageview data is that pageview allows us to filter out automated (bot) traffic whereas pagecounts does not.\n",
    "\n",
    "We will be collecting traffic data from 2008 - 2021 & outputting to 5 different files\n",
    "- pagecounts_desktop-site_200801-201607.json\n",
    "- pagecounts_mobile-site_200801-201607.json\n",
    "- pageviews_desktop_201507-202108.json\n",
    "- pageviews_mobile-app_201507-202108.json\n",
    "- pageviews_mobile-web_201507-202108.json"
   ]
  },
  {
   "cell_type": "code",
   "execution_count": 41,
   "metadata": {},
   "outputs": [],
   "source": [
    "import json\n",
    "import requests\n",
    "import pandas as pd"
   ]
  },
  {
   "cell_type": "code",
   "execution_count": 33,
   "metadata": {},
   "outputs": [],
   "source": [
    "endpoint_legacy = 'https://wikimedia.org/api/rest_v1/metrics/legacy/pagecounts/aggregate/{project}/{access-site}/{granularity}/{start}/{end}'\n",
    "endpoint_pageviews = 'https://wikimedia.org/api/rest_v1/metrics/pageviews/aggregate/{project}/{access}/{agent}/{granularity}/{start}/{end}'"
   ]
  },
  {
   "cell_type": "code",
   "execution_count": 85,
   "metadata": {},
   "outputs": [],
   "source": [
    "\n",
    "#API call params\n",
    "\n",
    "# see: https://wikimedia.org/api/rest_v1/#!/Legacy_data/get_metrics_legacy_pagecounts_aggregate_project_access_site_granularity_start_end\n",
    "pagecounts_desktop_site = {\"project\" : \"en.wikipedia.org\",\n",
    "                 \"access-site\" : \"desktop-site\",\n",
    "                 \"granularity\" : \"monthly\",\n",
    "                 \"start\" : \"2008010100\",\n",
    "                # for end use 1st day of month following final month of data\n",
    "                 \"end\" : \"2016080100\"\n",
    "                    }\n",
    "\n",
    "pagecounts_mobile_site = {\"project\" : \"en.wikipedia.org\",\n",
    "                 \"access-site\" : \"mobile-site\",\n",
    "                 \"granularity\" : \"monthly\",\n",
    "                 \"start\" : \"2008010100\",\n",
    "                # for end use 1st day of month following final month of data\n",
    "                 \"end\" : \"2016080100\"\n",
    "                    }\n",
    "\n",
    "# parameters for getting aggregated current standard pageview data\n",
    "# see: https://wikimedia.org/api/rest_v1/#!/Pageviews_data/get_metrics_pageviews_aggregate_project_access_agent_granularity_start_end\n",
    "pageviews_desktop = {\"project\" : \"en.wikipedia.org\",\n",
    "                    \"access\" : \"desktop\",\n",
    "                    \"agent\" : \"user\",\n",
    "                    \"granularity\" : \"monthly\",\n",
    "                    \"start\" : \"2015070100\",\n",
    "                    # for end use 1st day of month following final month of data\n",
    "                     \"end\" : \"2021090100\"\n",
    "                        }\n",
    "pageviews_mobile_app = {\"project\" : \"en.wikipedia.org\",\n",
    "                    \"access\" : \"mobile-app\",\n",
    "                    \"agent\" : \"user\",\n",
    "                    \"granularity\" : \"monthly\",\n",
    "                    \"start\" : \"2015070100\",\n",
    "                    # for end use 1st day of month following final month of data\n",
    "                     \"end\" : \"2021090100\"\n",
    "                        }\n",
    "\n",
    "pageviews_mobile_web = {\"project\" : \"en.wikipedia.org\",\n",
    "                    \"access\" : \"mobile-web\",\n",
    "                    \"agent\" : \"user\",\n",
    "                    \"granularity\" : \"monthly\",\n",
    "                    \"start\" : \"2015070100\",\n",
    "                    # for end use 1st day of month following final month of data\n",
    "                     \"end\" : \"2021090100\"\n",
    "                        }\n",
    "# Customize these with your own information\n",
    "headers = {\n",
    "    'User-Agent': 'https://github.com/marcm97',\n",
    "    'From': 'marcm5@uw.edu'\n",
    "}"
   ]
  },
  {
   "cell_type": "code",
   "execution_count": 86,
   "metadata": {},
   "outputs": [],
   "source": [
    "def api_call(endpoint,parameters):\n",
    "    call = requests.get(endpoint.format(**parameters), headers=headers)\n",
    "    response = call.json()\n",
    "    \n",
    "    return response"
   ]
  },
  {
   "cell_type": "code",
   "execution_count": 87,
   "metadata": {},
   "outputs": [],
   "source": [
    "#pagecounts API calls\n",
    "pagecounts_desktop_site_json = api_call(endpoint_legacy, pagecounts_desktop_site)\n",
    "pagecounts_mobile_site_json = api_call(endpoint_legacy, pagecounts_mobile_site)\n",
    "\n",
    "#pageview API calls\n",
    "pageviews_desktop_json = api_call(endpoint_pageviews, pageviews_desktop)\n",
    "pageviews_mobile_app_json = api_call(endpoint_pageviews, pageviews_mobile_app)\n",
    "pageviews_mobile_web_json = api_call(endpoint_pageviews, pageviews_mobile_web)"
   ]
  },
  {
   "cell_type": "code",
   "execution_count": 88,
   "metadata": {},
   "outputs": [],
   "source": [
    "# writing json data to data_raw/\n",
    "with open('data_raw/pagecounts_desktop-site_200801-201608.json', 'w', encoding='utf-8') as f:\n",
    "    json.dump(pagecounts_desktop_site_json, f, ensure_ascii=False, indent=4)\n",
    "    \n",
    "with open('data_raw/pagecounts_mobile-site_200801-201608.json', 'w', encoding='utf-8') as f:\n",
    "    json.dump(pagecounts_mobile_site_json, f, ensure_ascii=False, indent=4)\n",
    "    \n",
    "with open('data_raw/pageviews_desktop_201507-202108.json', 'w', encoding='utf-8') as f:\n",
    "    json.dump(pageviews_desktop_json, f, ensure_ascii=False, indent=4)\n",
    "\n",
    "with open('data_raw/pageviews_mobile-app_201507-202108.json', 'w', encoding='utf-8') as f:\n",
    "    json.dump(pageviews_mobile_app_json, f, ensure_ascii=False, indent=4)\n",
    "    \n",
    "with open('data_raw/pageviews_mobile-web_201507-202108.json', 'w', encoding='utf-8') as f:\n",
    "    json.dump(pageviews_mobile_web_json, f, ensure_ascii=False, indent=4)"
   ]
  },
  {
   "cell_type": "markdown",
   "metadata": {},
   "source": [
    "# Data Processing"
   ]
  },
  {
   "cell_type": "code",
   "execution_count": 103,
   "metadata": {},
   "outputs": [],
   "source": [
    "def create_df(path):\n",
    "    with open(path) as f:\n",
    "        json_data = json.load(f)\n",
    "    data = pd.json_normalize(json_data[\"items\"])\n",
    "    data[\"Year\"] = data[\"timestamp\"].str[:4]#first 4 digits are the year\n",
    "    data[\"Month\"] = data[\"timestamp\"].str[4:6]#digits 5,6 are months\n",
    "    if \"views\" in data.columns:\n",
    "        data[\"count\"] = data[\"views\"]\n",
    "    data[\"count\"] = pd.to_numeric(data[\"count\"])\n",
    "    return data[[\"Year\",\"Month\",\"count\"]]\n",
    "    "
   ]
  },
  {
   "cell_type": "code",
   "execution_count": 104,
   "metadata": {},
   "outputs": [],
   "source": [
    "pagecounts_desktop = create_df(\"data_raw/pagecounts_desktop-site_200801-201608.json\")\n",
    "pagecounts_mobile = create_df(\"data_raw/pagecounts_mobile-site_200801-201608.json\")\n",
    "pageviews_desktop = create_df(\"data_raw/pageviews_desktop_201507-202108.json\")\n",
    "pageviews_mobile_app = create_df(\"data_raw/pageviews_mobile-app_201507-202108.json\")\n",
    "pageviews_mobile_web = create_df(\"data_raw/pageviews_mobile-web_201507-202108.json\")"
   ]
  },
  {
   "cell_type": "markdown",
   "metadata": {},
   "source": [
    "- For data collected from the Pageviews API, combine the monthly values for mobile-app and mobile-web to create a total mobile traffic count for each month.\n"
   ]
  },
  {
   "cell_type": "code",
   "execution_count": 122,
   "metadata": {},
   "outputs": [],
   "source": [
    "pageviews_mobile = pageviews_mobile_app.merge(pageviews_mobile_web,\n",
    "                          how = \"outer\",\n",
    "                           on =[\"Year\",\"Month\"],\n",
    "                           suffixes =[\"_mobile_app\",\"_mobile_web\"]\n",
    "                          )\n",
    "pageviews_mobile[\"count\"] = pageviews_mobile[\"count_mobile_app\"]+pageviews_mobile[\"count_mobile_web\"]\n",
    "pageviews_mobile = pageviews_mobile[[\"Year\",\"Month\",\"count\"]]"
   ]
  },
  {
   "cell_type": "code",
   "execution_count": 126,
   "metadata": {},
   "outputs": [],
   "source": [
    "#creating unified joined csv\n",
    "pagecounts = pd.merge(pagecounts_desktop,\n",
    "         pagecounts_mobile,\n",
    "         how = \"outer\",\n",
    "         on =[\"Year\",\"Month\"],\n",
    "         suffixes =[\"_pagecounts_desktop\",\"_pagecounts_mobile_web\"]\n",
    "        )\n",
    "\n",
    "pageviews = pd.merge(pageviews_desktop,\n",
    "         pageviews_mobile,\n",
    "         how = \"outer\",\n",
    "         on =[\"Year\",\"Month\"],\n",
    "         suffixes =[\"_pageview_desktop\",\"_pageview_mobile_web\"]\n",
    "        )\n",
    "\n",
    "data = pd.merge(pagecounts,\n",
    "                pageviews,\n",
    "                how = \"outer\",\n",
    "                on =[\"Year\",\"Month\"]\n",
    "               )"
   ]
  },
  {
   "cell_type": "code",
   "execution_count": 133,
   "metadata": {},
   "outputs": [],
   "source": [
    "#replacing NA with 0's\n",
    "data = data.fillna(0)"
   ]
  },
  {
   "cell_type": "code",
   "execution_count": 135,
   "metadata": {},
   "outputs": [],
   "source": [
    "data[\"pagecount_all_views\"] = data[\"count_pagecounts_desktop\"] + data[\"count_pagecounts_mobile_web\"]\n",
    "data[\"pageview_all_views\"] = data[\"count_pageview_desktop\"] + data[\"count_pageview_mobile_web\"]"
   ]
  },
  {
   "cell_type": "code",
   "execution_count": 139,
   "metadata": {},
   "outputs": [],
   "source": [
    "data = data.rename(columns = {\n",
    "    \"count_pagecounts_desktop\": \"pagecount_desktop_views\",\n",
    "    \"count_pagecounts_mobile_web\": \"pagecount_mobile_views\",\n",
    "    \"count_pageview_desktop\": \"pageview_desktop_views\",\n",
    "    \"count_pageview_mobile_web\":\"pageview_mobile_views\"\n",
    "})\n",
    "data = data[[\"Year\",\n",
    "      \"Month\",\n",
    "      \"pagecount_all_views\",\n",
    "      \"pagecount_desktop_views\",\n",
    "      \"pagecount_mobile_views\",\n",
    "      \"pageview_all_views\",\n",
    "      \"pageview_desktop_views\",\n",
    "      \"pageview_mobile_views\"\n",
    "     ]]"
   ]
  },
  {
   "cell_type": "code",
   "execution_count": 140,
   "metadata": {},
   "outputs": [],
   "source": [
    "# write out to csv\n",
    "data.to_csv(\"data_clean/en-wikipedia_traffic_200712-202108.csv\")"
   ]
  },
  {
   "cell_type": "code",
   "execution_count": null,
   "metadata": {},
   "outputs": [],
   "source": []
  }
 ],
 "metadata": {
  "kernelspec": {
   "display_name": "Python 3",
   "language": "python",
   "name": "python3"
  },
  "language_info": {
   "codemirror_mode": {
    "name": "ipython",
    "version": 3
   },
   "file_extension": ".py",
   "mimetype": "text/x-python",
   "name": "python",
   "nbconvert_exporter": "python",
   "pygments_lexer": "ipython3",
   "version": "3.8.3"
  }
 },
 "nbformat": 4,
 "nbformat_minor": 4
}
